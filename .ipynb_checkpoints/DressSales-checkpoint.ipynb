{
 "cells": [
  {
   "cell_type": "code",
   "execution_count": 56,
   "id": "30b38e91-8e74-4d55-b078-2dcf1938ef5e",
   "metadata": {},
   "outputs": [],
   "source": [
    "#Import the required Libraries.\n",
    "import numpy as np\n",
    "import pandas as pd\n",
    "import matplotlib.pyplot as plt\n",
    "import seaborn as sns"
   ]
  },
  {
   "cell_type": "code",
   "execution_count": 57,
   "id": "bb640afb-6c28-4a9b-a62d-cd2bb3b84629",
   "metadata": {},
   "outputs": [],
   "source": [
    "#Read the data in pandas\n",
    "ds1=pd.read_excel('AttributeDataSet.xlsx', index_col=0)\n",
    "ds2=pd.read_excel('DressSales.xlsx', index_col=0)"
   ]
  },
  {
   "cell_type": "code",
   "execution_count": 58,
   "id": "ebd7cdc9-d9b1-4ac2-ac04-8c7de102b0d1",
   "metadata": {},
   "outputs": [
    {
     "name": "stdout",
     "output_type": "stream",
     "text": [
      "<class 'pandas.core.frame.DataFrame'>\n",
      "Int64Index: 500 entries, 1006032852 to 919930954\n",
      "Data columns (total 13 columns):\n",
      " #   Column          Non-Null Count  Dtype  \n",
      "---  ------          --------------  -----  \n",
      " 0   Style           500 non-null    object \n",
      " 1   Price           498 non-null    object \n",
      " 2   Rating          500 non-null    float64\n",
      " 3   Size            500 non-null    object \n",
      " 4   Season          498 non-null    object \n",
      " 5   NeckLine        497 non-null    object \n",
      " 6   SleeveLength    498 non-null    object \n",
      " 7   waiseline       413 non-null    object \n",
      " 8   Material        372 non-null    object \n",
      " 9   FabricType      234 non-null    object \n",
      " 10  Decoration      264 non-null    object \n",
      " 11  Pattern Type    391 non-null    object \n",
      " 12  Recommendation  500 non-null    int64  \n",
      "dtypes: float64(1), int64(1), object(11)\n",
      "memory usage: 54.7+ KB\n"
     ]
    }
   ],
   "source": [
    "ds1.info()"
   ]
  },
  {
   "cell_type": "code",
   "execution_count": 59,
   "id": "a0bc02b4-a6b5-4345-9ebb-04bdbc5fb273",
   "metadata": {},
   "outputs": [
    {
     "data": {
      "text/html": [
       "<div>\n",
       "<style scoped>\n",
       "    .dataframe tbody tr th:only-of-type {\n",
       "        vertical-align: middle;\n",
       "    }\n",
       "\n",
       "    .dataframe tbody tr th {\n",
       "        vertical-align: top;\n",
       "    }\n",
       "\n",
       "    .dataframe thead th {\n",
       "        text-align: right;\n",
       "    }\n",
       "</style>\n",
       "<table border=\"1\" class=\"dataframe\">\n",
       "  <thead>\n",
       "    <tr style=\"text-align: right;\">\n",
       "      <th></th>\n",
       "      <th>Style</th>\n",
       "      <th>Price</th>\n",
       "      <th>Rating</th>\n",
       "      <th>Size</th>\n",
       "      <th>Season</th>\n",
       "      <th>NeckLine</th>\n",
       "      <th>SleeveLength</th>\n",
       "      <th>waiseline</th>\n",
       "      <th>Material</th>\n",
       "      <th>FabricType</th>\n",
       "      <th>Decoration</th>\n",
       "      <th>Pattern Type</th>\n",
       "      <th>Recommendation</th>\n",
       "    </tr>\n",
       "    <tr>\n",
       "      <th>Dress_ID</th>\n",
       "      <th></th>\n",
       "      <th></th>\n",
       "      <th></th>\n",
       "      <th></th>\n",
       "      <th></th>\n",
       "      <th></th>\n",
       "      <th></th>\n",
       "      <th></th>\n",
       "      <th></th>\n",
       "      <th></th>\n",
       "      <th></th>\n",
       "      <th></th>\n",
       "      <th></th>\n",
       "    </tr>\n",
       "  </thead>\n",
       "  <tbody>\n",
       "    <tr>\n",
       "      <th>1006032852</th>\n",
       "      <td>Sexy</td>\n",
       "      <td>Low</td>\n",
       "      <td>4.6</td>\n",
       "      <td>M</td>\n",
       "      <td>Summer</td>\n",
       "      <td>o-neck</td>\n",
       "      <td>sleevless</td>\n",
       "      <td>empire</td>\n",
       "      <td>NaN</td>\n",
       "      <td>chiffon</td>\n",
       "      <td>ruffles</td>\n",
       "      <td>animal</td>\n",
       "      <td>1</td>\n",
       "    </tr>\n",
       "    <tr>\n",
       "      <th>1212192089</th>\n",
       "      <td>Casual</td>\n",
       "      <td>Low</td>\n",
       "      <td>0.0</td>\n",
       "      <td>L</td>\n",
       "      <td>Summer</td>\n",
       "      <td>o-neck</td>\n",
       "      <td>Petal</td>\n",
       "      <td>natural</td>\n",
       "      <td>microfiber</td>\n",
       "      <td>NaN</td>\n",
       "      <td>ruffles</td>\n",
       "      <td>animal</td>\n",
       "      <td>0</td>\n",
       "    </tr>\n",
       "    <tr>\n",
       "      <th>1190380701</th>\n",
       "      <td>vintage</td>\n",
       "      <td>High</td>\n",
       "      <td>0.0</td>\n",
       "      <td>L</td>\n",
       "      <td>Automn</td>\n",
       "      <td>o-neck</td>\n",
       "      <td>full</td>\n",
       "      <td>natural</td>\n",
       "      <td>polyster</td>\n",
       "      <td>NaN</td>\n",
       "      <td>NaN</td>\n",
       "      <td>print</td>\n",
       "      <td>0</td>\n",
       "    </tr>\n",
       "    <tr>\n",
       "      <th>966005983</th>\n",
       "      <td>Brief</td>\n",
       "      <td>Average</td>\n",
       "      <td>4.6</td>\n",
       "      <td>L</td>\n",
       "      <td>Spring</td>\n",
       "      <td>o-neck</td>\n",
       "      <td>full</td>\n",
       "      <td>natural</td>\n",
       "      <td>silk</td>\n",
       "      <td>chiffon</td>\n",
       "      <td>embroidary</td>\n",
       "      <td>print</td>\n",
       "      <td>1</td>\n",
       "    </tr>\n",
       "    <tr>\n",
       "      <th>876339541</th>\n",
       "      <td>cute</td>\n",
       "      <td>Low</td>\n",
       "      <td>4.5</td>\n",
       "      <td>M</td>\n",
       "      <td>Summer</td>\n",
       "      <td>o-neck</td>\n",
       "      <td>butterfly</td>\n",
       "      <td>natural</td>\n",
       "      <td>chiffonfabric</td>\n",
       "      <td>chiffon</td>\n",
       "      <td>bow</td>\n",
       "      <td>dot</td>\n",
       "      <td>0</td>\n",
       "    </tr>\n",
       "  </tbody>\n",
       "</table>\n",
       "</div>"
      ],
      "text/plain": [
       "              Style    Price  Rating Size  Season NeckLine SleeveLength  \\\n",
       "Dress_ID                                                                  \n",
       "1006032852     Sexy      Low     4.6    M  Summer   o-neck    sleevless   \n",
       "1212192089   Casual      Low     0.0    L  Summer   o-neck        Petal   \n",
       "1190380701  vintage     High     0.0    L  Automn   o-neck         full   \n",
       "966005983     Brief  Average     4.6    L  Spring   o-neck         full   \n",
       "876339541      cute      Low     4.5    M  Summer   o-neck    butterfly   \n",
       "\n",
       "           waiseline       Material FabricType  Decoration Pattern Type  \\\n",
       "Dress_ID                                                                  \n",
       "1006032852    empire            NaN    chiffon     ruffles       animal   \n",
       "1212192089   natural     microfiber        NaN     ruffles       animal   \n",
       "1190380701   natural       polyster        NaN         NaN        print   \n",
       "966005983    natural           silk    chiffon  embroidary        print   \n",
       "876339541    natural  chiffonfabric    chiffon         bow          dot   \n",
       "\n",
       "            Recommendation  \n",
       "Dress_ID                    \n",
       "1006032852               1  \n",
       "1212192089               0  \n",
       "1190380701               0  \n",
       "966005983                1  \n",
       "876339541                0  "
      ]
     },
     "execution_count": 59,
     "metadata": {},
     "output_type": "execute_result"
    }
   ],
   "source": [
    "ds1.head()"
   ]
  },
  {
   "cell_type": "code",
   "execution_count": 60,
   "id": "2f6349dc-32ce-4764-b78a-0390b2739557",
   "metadata": {},
   "outputs": [
    {
     "name": "stdout",
     "output_type": "stream",
     "text": [
      "<class 'pandas.core.frame.DataFrame'>\n",
      "Int64Index: 500 entries, 1006032852 to 919930954\n",
      "Data columns (total 13 columns):\n",
      " #   Column          Non-Null Count  Dtype  \n",
      "---  ------          --------------  -----  \n",
      " 0   Style           500 non-null    object \n",
      " 1   Price           498 non-null    object \n",
      " 2   Rating          500 non-null    float64\n",
      " 3   Size            500 non-null    object \n",
      " 4   Season          498 non-null    object \n",
      " 5   NeckLine        497 non-null    object \n",
      " 6   SleeveLength    498 non-null    object \n",
      " 7   waiseline       413 non-null    object \n",
      " 8   Material        372 non-null    object \n",
      " 9   FabricType      234 non-null    object \n",
      " 10  Decoration      264 non-null    object \n",
      " 11  Pattern Type    391 non-null    object \n",
      " 12  Recommendation  500 non-null    int64  \n",
      "dtypes: float64(1), int64(1), object(11)\n",
      "memory usage: 54.7+ KB\n"
     ]
    }
   ],
   "source": [
    "ds1.info()"
   ]
  },
  {
   "cell_type": "code",
   "execution_count": 61,
   "id": "df4f6bed-006b-44fd-b180-52b2e60a8933",
   "metadata": {},
   "outputs": [
    {
     "name": "stdout",
     "output_type": "stream",
     "text": [
      "<class 'pandas.core.frame.DataFrame'>\n",
      "Int64Index: 500 entries, 1006032852 to 919930954\n",
      "Data columns (total 23 columns):\n",
      " #   Column      Non-Null Count  Dtype  \n",
      "---  ------      --------------  -----  \n",
      " 0   2013-08-29  500 non-null    int64  \n",
      " 1   2013-08-31  500 non-null    int64  \n",
      " 2   2013-02-09  500 non-null    int64  \n",
      " 3   2013-04-09  500 non-null    int64  \n",
      " 4   2013-06-09  500 non-null    int64  \n",
      " 5   2013-08-09  500 non-null    int64  \n",
      " 6   2013-10-09  500 non-null    int64  \n",
      " 7   2013-12-09  500 non-null    object \n",
      " 8   2013-09-14  500 non-null    object \n",
      " 9   2013-09-16  500 non-null    object \n",
      " 10  2013-09-18  500 non-null    object \n",
      " 11  2013-09-20  500 non-null    object \n",
      " 12  2013-09-22  500 non-null    object \n",
      " 13  2013-09-24  500 non-null    int64  \n",
      " 14  2013-09-26  263 non-null    float64\n",
      " 15  2013-09-28  500 non-null    int64  \n",
      " 16  2013-09-30  227 non-null    float64\n",
      " 17  2013-10-02  225 non-null    float64\n",
      " 18  2013-10-04  226 non-null    float64\n",
      " 19  2013-06-10  500 non-null    int64  \n",
      " 20  2010-10-08  229 non-null    float64\n",
      " 21  2013-10-10  229 non-null    float64\n",
      " 22  2013-12-10  500 non-null    int64  \n",
      "dtypes: float64(6), int64(11), object(6)\n",
      "memory usage: 93.8+ KB\n"
     ]
    }
   ],
   "source": [
    "ds2.info()"
   ]
  },
  {
   "cell_type": "code",
   "execution_count": 62,
   "id": "e83858ef-62b7-48bf-bd28-d339b306115f",
   "metadata": {},
   "outputs": [
    {
     "data": {
      "text/plain": [
       "array(['M', 'L', 'XL', 'free', 'S', 'small', 's'], dtype=object)"
      ]
     },
     "execution_count": 62,
     "metadata": {},
     "output_type": "execute_result"
    }
   ],
   "source": [
    "# Column fixing, correcting size abbreviation. count the percentage of each size category in \"Size\" column.\n",
    "pd.unique(ds1['Size'])"
   ]
  },
  {
   "cell_type": "code",
   "execution_count": 63,
   "id": "5d55dcde-ee07-4826-b873-61bf2d08fc03",
   "metadata": {},
   "outputs": [],
   "source": [
    "ds1['Size'].replace(['XL','L','M','S','s','small','free'], ['Extra Large','Large','Medium','Small','Small','Small','Free'], inplace=True)"
   ]
  },
  {
   "cell_type": "code",
   "execution_count": 64,
   "id": "57d07ec9-0c53-4f80-8ad5-504a1afed84b",
   "metadata": {},
   "outputs": [
    {
     "data": {
      "text/plain": [
       "array(['Medium', 'Large', 'Extra Large', 'Free', 'Small'], dtype=object)"
      ]
     },
     "execution_count": 64,
     "metadata": {},
     "output_type": "execute_result"
    }
   ],
   "source": [
    "pd.unique(ds1['Size'])"
   ]
  },
  {
   "cell_type": "code",
   "execution_count": 65,
   "id": "eda5b8a7-fbdd-4ff9-889b-02d6a7910f82",
   "metadata": {},
   "outputs": [
    {
     "data": {
      "text/plain": [
       "Medium         35.4\n",
       "Free           34.6\n",
       "Large          19.2\n",
       "Small           7.8\n",
       "Extra Large     3.0\n",
       "Name: Size, dtype: float64"
      ]
     },
     "execution_count": 65,
     "metadata": {},
     "output_type": "execute_result"
    }
   ],
   "source": [
    "# Print the value counts of each category in \"Size\" column.\n",
    "# What is the value of the lowest percentage, the highest percentage and the percentage of Small size categories in the column named “Size”?\n",
    "\n",
    "ds1['Size'].value_counts(normalize=True)*100"
   ]
  },
  {
   "cell_type": "code",
   "execution_count": 66,
   "id": "6827c808-7e73-4d07-accd-fd079f3b4ed1",
   "metadata": {},
   "outputs": [
    {
     "data": {
      "text/plain": [
       "Style               0\n",
       "Price               2\n",
       "Rating              0\n",
       "Size                0\n",
       "Season              2\n",
       "NeckLine            3\n",
       "SleeveLength        2\n",
       "waiseline          87\n",
       "Material          128\n",
       "FabricType        266\n",
       "Decoration        236\n",
       "Pattern Type      109\n",
       "Recommendation      0\n",
       "dtype: int64"
      ]
     },
     "execution_count": 66,
     "metadata": {},
     "output_type": "execute_result"
    }
   ],
   "source": [
    "# Print the null count of each variables of ds1 and ds2.\n",
    "ds1.isnull().sum()"
   ]
  },
  {
   "cell_type": "code",
   "execution_count": 67,
   "id": "402ad5cb-a60e-43b5-8cbf-217e09968038",
   "metadata": {},
   "outputs": [
    {
     "data": {
      "text/plain": [
       "2013-08-29      0\n",
       "2013-08-31      0\n",
       "2013-02-09      0\n",
       "2013-04-09      0\n",
       "2013-06-09      0\n",
       "2013-08-09      0\n",
       "2013-10-09      0\n",
       "2013-12-09      0\n",
       "2013-09-14      0\n",
       "2013-09-16      0\n",
       "2013-09-18      0\n",
       "2013-09-20      0\n",
       "2013-09-22      0\n",
       "2013-09-24      0\n",
       "2013-09-26    237\n",
       "2013-09-28      0\n",
       "2013-09-30    273\n",
       "2013-10-02    275\n",
       "2013-10-04    274\n",
       "2013-06-10      0\n",
       "2010-10-08    271\n",
       "2013-10-10    271\n",
       "2013-12-10      0\n",
       "dtype: int64"
      ]
     },
     "execution_count": 67,
     "metadata": {},
     "output_type": "execute_result"
    }
   ],
   "source": [
    "ds2.isnull().sum()"
   ]
  },
  {
   "cell_type": "code",
   "execution_count": 68,
   "id": "885744ba-4368-41cf-86ac-97e0a9fda900",
   "metadata": {},
   "outputs": [
    {
     "name": "stdout",
     "output_type": "stream",
     "text": [
      "<class 'pandas.core.frame.DataFrame'>\n",
      "Int64Index: 500 entries, 1006032852 to 919930954\n",
      "Data columns (total 23 columns):\n",
      " #   Column      Non-Null Count  Dtype  \n",
      "---  ------      --------------  -----  \n",
      " 0   2013-08-29  500 non-null    int64  \n",
      " 1   2013-08-31  500 non-null    int64  \n",
      " 2   2013-02-09  500 non-null    int64  \n",
      " 3   2013-04-09  500 non-null    int64  \n",
      " 4   2013-06-09  500 non-null    int64  \n",
      " 5   2013-08-09  500 non-null    int64  \n",
      " 6   2013-10-09  500 non-null    int64  \n",
      " 7   2013-12-09  500 non-null    object \n",
      " 8   2013-09-14  500 non-null    object \n",
      " 9   2013-09-16  500 non-null    object \n",
      " 10  2013-09-18  500 non-null    object \n",
      " 11  2013-09-20  500 non-null    object \n",
      " 12  2013-09-22  500 non-null    object \n",
      " 13  2013-09-24  500 non-null    int64  \n",
      " 14  2013-09-26  263 non-null    float64\n",
      " 15  2013-09-28  500 non-null    int64  \n",
      " 16  2013-09-30  227 non-null    float64\n",
      " 17  2013-10-02  225 non-null    float64\n",
      " 18  2013-10-04  226 non-null    float64\n",
      " 19  2013-06-10  500 non-null    int64  \n",
      " 20  2010-10-08  229 non-null    float64\n",
      " 21  2013-10-10  229 non-null    float64\n",
      " 22  2013-12-10  500 non-null    int64  \n",
      "dtypes: float64(6), int64(11), object(6)\n",
      "memory usage: 93.8+ KB\n"
     ]
    }
   ],
   "source": [
    "# Print the data types information of ds2 i.e. \"Dress Sales\" data.\n",
    "ds2.info()"
   ]
  },
  {
   "cell_type": "code",
   "execution_count": 69,
   "id": "1d138b7f-d18a-4ce9-9c10-1f494d1b3bb0",
   "metadata": {},
   "outputs": [],
   "source": [
    "# Try to convert the object type into float type of data. YOU GET ERROR MESSAGE.\n",
    "##ds2['2013-09-12'] = pd.to_numeric(ds2['2013-09-12'])"
   ]
  },
  {
   "cell_type": "code",
   "execution_count": 70,
   "id": "d942db0e-18db-4b88-bba3-80bdc9a53057",
   "metadata": {},
   "outputs": [],
   "source": [
    "# Do the required changes in the \"Dress Sales\" data set to get null values on string values.\n",
    "ds2.loc[ds2['2013-12-09']== 'Removed',\"2013-12-09\"] = np.NaN\n",
    "ds2.loc[ds2['2013-09-14']== 'removed',\"2013-09-14\"] = np.NaN\n",
    "ds2.loc[ds2['2013-09-16']== 'removed',\"2013-09-16\"] = np.NaN\n",
    "ds2.loc[ds2['2013-09-18']== 'removed',\"2013-09-18\"] = np.NaN\n",
    "ds2.loc[ds2['2013-09-20']== 'removed',\"2013-09-20\"] = np.NaN\n",
    "ds2.loc[ds2['2013-09-22']== 'Orders',\"2013-09-22\"] = np.NaN\n"
   ]
  },
  {
   "cell_type": "code",
   "execution_count": 71,
   "id": "84a403e4-7b83-4a72-9554-2498a79bb536",
   "metadata": {},
   "outputs": [],
   "source": [
    "ds2['2013-12-09'] = pd.to_numeric(ds2['2013-12-09'], downcast='float')\n",
    "ds2['2013-09-14'] = pd.to_numeric(ds2['2013-09-14'], downcast='float')\n",
    "ds2['2013-09-16'] = pd.to_numeric(ds2['2013-09-16'], downcast='float')\n",
    "ds2['2013-09-18'] = pd.to_numeric(ds2['2013-09-18'], downcast='float')\n",
    "ds2['2013-09-20'] = pd.to_numeric(ds2['2013-09-20'], downcast='float')\n",
    "ds2['2013-09-22'] = pd.to_numeric(ds2['2013-09-22'], downcast='float')"
   ]
  },
  {
   "cell_type": "code",
   "execution_count": 72,
   "id": "b5de0e28-5630-4c23-b81e-84a901c148f0",
   "metadata": {},
   "outputs": [
    {
     "name": "stdout",
     "output_type": "stream",
     "text": [
      "<class 'pandas.core.frame.DataFrame'>\n",
      "Int64Index: 500 entries, 1006032852 to 919930954\n",
      "Data columns (total 23 columns):\n",
      " #   Column      Non-Null Count  Dtype  \n",
      "---  ------      --------------  -----  \n",
      " 0   2013-08-29  500 non-null    int64  \n",
      " 1   2013-08-31  500 non-null    int64  \n",
      " 2   2013-02-09  500 non-null    int64  \n",
      " 3   2013-04-09  500 non-null    int64  \n",
      " 4   2013-06-09  500 non-null    int64  \n",
      " 5   2013-08-09  500 non-null    int64  \n",
      " 6   2013-10-09  500 non-null    int64  \n",
      " 7   2013-12-09  499 non-null    float32\n",
      " 8   2013-09-14  499 non-null    float32\n",
      " 9   2013-09-16  499 non-null    float32\n",
      " 10  2013-09-18  499 non-null    float32\n",
      " 11  2013-09-20  499 non-null    float32\n",
      " 12  2013-09-22  499 non-null    float32\n",
      " 13  2013-09-24  500 non-null    int64  \n",
      " 14  2013-09-26  263 non-null    float64\n",
      " 15  2013-09-28  500 non-null    int64  \n",
      " 16  2013-09-30  227 non-null    float64\n",
      " 17  2013-10-02  225 non-null    float64\n",
      " 18  2013-10-04  226 non-null    float64\n",
      " 19  2013-06-10  500 non-null    int64  \n",
      " 20  2010-10-08  229 non-null    float64\n",
      " 21  2013-10-10  229 non-null    float64\n",
      " 22  2013-12-10  500 non-null    int64  \n",
      "dtypes: float32(6), float64(6), int64(11)\n",
      "memory usage: 82.0 KB\n"
     ]
    }
   ],
   "source": [
    "ds2.info()"
   ]
  },
  {
   "cell_type": "code",
   "execution_count": 73,
   "id": "2ee1ff21-c4b7-47dd-b202-232ab86470a7",
   "metadata": {},
   "outputs": [
    {
     "data": {
      "text/plain": [
       "2013-08-29     0.0\n",
       "2013-08-31     0.0\n",
       "2013-02-09     0.0\n",
       "2013-04-09     0.0\n",
       "2013-06-09     0.0\n",
       "2013-08-09     0.0\n",
       "2013-10-09     0.0\n",
       "2013-12-09     0.2\n",
       "2013-09-14     0.2\n",
       "2013-09-16     0.2\n",
       "2013-09-18     0.2\n",
       "2013-09-20     0.2\n",
       "2013-09-22     0.2\n",
       "2013-09-24     0.0\n",
       "2013-09-26    47.4\n",
       "2013-09-28     0.0\n",
       "2013-09-30    54.6\n",
       "2013-10-02    55.0\n",
       "2013-10-04    54.8\n",
       "2013-06-10     0.0\n",
       "2010-10-08    54.2\n",
       "2013-10-10    54.2\n",
       "2013-12-10     0.0\n",
       "dtype: float64"
      ]
     },
     "execution_count": 73,
     "metadata": {},
     "output_type": "execute_result"
    }
   ],
   "source": [
    "# Print the null percetange of each column of ds2.\n",
    "ds2.isnull().sum()/len(ds2.index)*100"
   ]
  },
  {
   "cell_type": "code",
   "execution_count": 74,
   "id": "4dad3368-c307-4475-aa34-4c5253b9f567",
   "metadata": {},
   "outputs": [
    {
     "name": "stdout",
     "output_type": "stream",
     "text": [
      "<class 'pandas.core.frame.DataFrame'>\n",
      "Int64Index: 500 entries, 1006032852 to 919930954\n",
      "Data columns (total 17 columns):\n",
      " #   Column      Non-Null Count  Dtype  \n",
      "---  ------      --------------  -----  \n",
      " 0   2013-08-29  500 non-null    int64  \n",
      " 1   2013-08-31  500 non-null    int64  \n",
      " 2   2013-02-09  500 non-null    int64  \n",
      " 3   2013-04-09  500 non-null    int64  \n",
      " 4   2013-06-09  500 non-null    int64  \n",
      " 5   2013-08-09  500 non-null    int64  \n",
      " 6   2013-10-09  500 non-null    int64  \n",
      " 7   2013-12-09  499 non-null    float32\n",
      " 8   2013-09-14  499 non-null    float32\n",
      " 9   2013-09-16  499 non-null    float32\n",
      " 10  2013-09-18  499 non-null    float32\n",
      " 11  2013-09-20  499 non-null    float32\n",
      " 12  2013-09-22  499 non-null    float32\n",
      " 13  2013-09-24  500 non-null    int64  \n",
      " 14  2013-09-28  500 non-null    int64  \n",
      " 15  2013-06-10  500 non-null    int64  \n",
      " 16  2013-12-10  500 non-null    int64  \n",
      "dtypes: float32(6), int64(11)\n",
      "memory usage: 58.6 KB\n"
     ]
    }
   ],
   "source": [
    "# Drop the columns in \"Dress Sales\" which have more than 40% of missing values.\n",
    "ds2 = ds2.drop(['2013-09-26','2013-09-30','2013-10-02','2013-10-04','2010-10-08','2013-10-10' ],axis=1)\n",
    "ds2.info()"
   ]
  },
  {
   "cell_type": "code",
   "execution_count": 75,
   "id": "d9c20149-9524-4074-9264-be0d0f4c3756",
   "metadata": {},
   "outputs": [
    {
     "data": {
      "text/plain": [
       "2013-08-29    0.0\n",
       "2013-08-31    0.0\n",
       "2013-02-09    0.0\n",
       "2013-04-09    0.0\n",
       "2013-06-09    0.0\n",
       "2013-08-09    0.0\n",
       "2013-10-09    0.0\n",
       "2013-12-09    0.2\n",
       "2013-09-14    0.2\n",
       "2013-09-16    0.2\n",
       "2013-09-18    0.2\n",
       "2013-09-20    0.2\n",
       "2013-09-22    0.2\n",
       "2013-09-24    0.0\n",
       "2013-09-28    0.0\n",
       "2013-06-10    0.0\n",
       "2013-12-10    0.0\n",
       "dtype: float64"
      ]
     },
     "execution_count": 75,
     "metadata": {},
     "output_type": "execute_result"
    }
   ],
   "source": [
    "ds2.isnull().sum()/len(ds2.index)*100"
   ]
  },
  {
   "cell_type": "code",
   "execution_count": 76,
   "id": "f79d21ed-e87f-4187-9e19-1b798c5cfb1d",
   "metadata": {},
   "outputs": [
    {
     "data": {
      "text/html": [
       "<div>\n",
       "<style scoped>\n",
       "    .dataframe tbody tr th:only-of-type {\n",
       "        vertical-align: middle;\n",
       "    }\n",
       "\n",
       "    .dataframe tbody tr th {\n",
       "        vertical-align: top;\n",
       "    }\n",
       "\n",
       "    .dataframe thead th {\n",
       "        text-align: right;\n",
       "    }\n",
       "</style>\n",
       "<table border=\"1\" class=\"dataframe\">\n",
       "  <thead>\n",
       "    <tr style=\"text-align: right;\">\n",
       "      <th></th>\n",
       "      <th>2013-08-29</th>\n",
       "      <th>2013-08-31</th>\n",
       "      <th>2013-02-09</th>\n",
       "      <th>2013-04-09</th>\n",
       "      <th>2013-06-09</th>\n",
       "      <th>2013-08-09</th>\n",
       "      <th>2013-10-09</th>\n",
       "      <th>2013-12-09</th>\n",
       "      <th>2013-09-14</th>\n",
       "      <th>2013-09-16</th>\n",
       "      <th>2013-09-18</th>\n",
       "      <th>2013-09-20</th>\n",
       "      <th>2013-09-22</th>\n",
       "      <th>2013-09-24</th>\n",
       "      <th>2013-09-28</th>\n",
       "      <th>2013-06-10</th>\n",
       "      <th>2013-12-10</th>\n",
       "    </tr>\n",
       "    <tr>\n",
       "      <th>Dress_ID</th>\n",
       "      <th></th>\n",
       "      <th></th>\n",
       "      <th></th>\n",
       "      <th></th>\n",
       "      <th></th>\n",
       "      <th></th>\n",
       "      <th></th>\n",
       "      <th></th>\n",
       "      <th></th>\n",
       "      <th></th>\n",
       "      <th></th>\n",
       "      <th></th>\n",
       "      <th></th>\n",
       "      <th></th>\n",
       "      <th></th>\n",
       "      <th></th>\n",
       "      <th></th>\n",
       "    </tr>\n",
       "  </thead>\n",
       "  <tbody>\n",
       "    <tr>\n",
       "      <th>1006032852</th>\n",
       "      <td>2114</td>\n",
       "      <td>2274</td>\n",
       "      <td>2491</td>\n",
       "      <td>2660</td>\n",
       "      <td>2727</td>\n",
       "      <td>2887</td>\n",
       "      <td>2930</td>\n",
       "      <td>3119.0</td>\n",
       "      <td>3204.0</td>\n",
       "      <td>3277.0</td>\n",
       "      <td>3321.0</td>\n",
       "      <td>3386.0</td>\n",
       "      <td>3479.0</td>\n",
       "      <td>3554</td>\n",
       "      <td>3706</td>\n",
       "      <td>3897</td>\n",
       "      <td>4048</td>\n",
       "    </tr>\n",
       "    <tr>\n",
       "      <th>1212192089</th>\n",
       "      <td>151</td>\n",
       "      <td>275</td>\n",
       "      <td>570</td>\n",
       "      <td>750</td>\n",
       "      <td>813</td>\n",
       "      <td>1066</td>\n",
       "      <td>1164</td>\n",
       "      <td>1558.0</td>\n",
       "      <td>1756.0</td>\n",
       "      <td>1878.0</td>\n",
       "      <td>1985.0</td>\n",
       "      <td>2106.0</td>\n",
       "      <td>2454.0</td>\n",
       "      <td>2710</td>\n",
       "      <td>3258</td>\n",
       "      <td>3911</td>\n",
       "      <td>4277</td>\n",
       "    </tr>\n",
       "    <tr>\n",
       "      <th>1190380701</th>\n",
       "      <td>6</td>\n",
       "      <td>7</td>\n",
       "      <td>7</td>\n",
       "      <td>7</td>\n",
       "      <td>8</td>\n",
       "      <td>8</td>\n",
       "      <td>9</td>\n",
       "      <td>10.0</td>\n",
       "      <td>10.0</td>\n",
       "      <td>10.0</td>\n",
       "      <td>10.0</td>\n",
       "      <td>10.0</td>\n",
       "      <td>11.0</td>\n",
       "      <td>11</td>\n",
       "      <td>11</td>\n",
       "      <td>11</td>\n",
       "      <td>11</td>\n",
       "    </tr>\n",
       "    <tr>\n",
       "      <th>966005983</th>\n",
       "      <td>1005</td>\n",
       "      <td>1128</td>\n",
       "      <td>1326</td>\n",
       "      <td>1455</td>\n",
       "      <td>1507</td>\n",
       "      <td>1621</td>\n",
       "      <td>1637</td>\n",
       "      <td>1723.0</td>\n",
       "      <td>1746.0</td>\n",
       "      <td>1783.0</td>\n",
       "      <td>1796.0</td>\n",
       "      <td>1812.0</td>\n",
       "      <td>1845.0</td>\n",
       "      <td>1878</td>\n",
       "      <td>1914</td>\n",
       "      <td>1952</td>\n",
       "      <td>1963</td>\n",
       "    </tr>\n",
       "    <tr>\n",
       "      <th>876339541</th>\n",
       "      <td>996</td>\n",
       "      <td>1175</td>\n",
       "      <td>1304</td>\n",
       "      <td>1396</td>\n",
       "      <td>1432</td>\n",
       "      <td>1559</td>\n",
       "      <td>1570</td>\n",
       "      <td>1638.0</td>\n",
       "      <td>1655.0</td>\n",
       "      <td>1681.0</td>\n",
       "      <td>1743.0</td>\n",
       "      <td>1824.0</td>\n",
       "      <td>1919.0</td>\n",
       "      <td>2032</td>\n",
       "      <td>2252</td>\n",
       "      <td>2544</td>\n",
       "      <td>2736</td>\n",
       "    </tr>\n",
       "  </tbody>\n",
       "</table>\n",
       "</div>"
      ],
      "text/plain": [
       "            2013-08-29  2013-08-31  2013-02-09  2013-04-09  2013-06-09  \\\n",
       "Dress_ID                                                                 \n",
       "1006032852        2114        2274        2491        2660        2727   \n",
       "1212192089         151         275         570         750         813   \n",
       "1190380701           6           7           7           7           8   \n",
       "966005983         1005        1128        1326        1455        1507   \n",
       "876339541          996        1175        1304        1396        1432   \n",
       "\n",
       "            2013-08-09  2013-10-09  2013-12-09  2013-09-14  2013-09-16  \\\n",
       "Dress_ID                                                                 \n",
       "1006032852        2887        2930      3119.0      3204.0      3277.0   \n",
       "1212192089        1066        1164      1558.0      1756.0      1878.0   \n",
       "1190380701           8           9        10.0        10.0        10.0   \n",
       "966005983         1621        1637      1723.0      1746.0      1783.0   \n",
       "876339541         1559        1570      1638.0      1655.0      1681.0   \n",
       "\n",
       "            2013-09-18  2013-09-20  2013-09-22  2013-09-24  2013-09-28  \\\n",
       "Dress_ID                                                                 \n",
       "1006032852      3321.0      3386.0      3479.0        3554        3706   \n",
       "1212192089      1985.0      2106.0      2454.0        2710        3258   \n",
       "1190380701        10.0        10.0        11.0          11          11   \n",
       "966005983       1796.0      1812.0      1845.0        1878        1914   \n",
       "876339541       1743.0      1824.0      1919.0        2032        2252   \n",
       "\n",
       "            2013-06-10  2013-12-10  \n",
       "Dress_ID                            \n",
       "1006032852        3897        4048  \n",
       "1212192089        3911        4277  \n",
       "1190380701          11          11  \n",
       "966005983         1952        1963  \n",
       "876339541         2544        2736  "
      ]
     },
     "execution_count": 76,
     "metadata": {},
     "output_type": "execute_result"
    }
   ],
   "source": [
    "ds2.head()"
   ]
  },
  {
   "cell_type": "code",
   "execution_count": 77,
   "id": "d1791e5a-5d43-4686-b4e8-93210745684d",
   "metadata": {},
   "outputs": [],
   "source": [
    "# Create the four seasons columns in ds2, according to the above criteria.\n",
    "ds2['Summer'] = ds2['2013-06-09'] + ds2['2013-06-10'] + ds2['2013-08-29'] + ds2['2013-08-31'] + ds2['2013-08-09'] \n",
    "ds2['Autumn'] = ds2['2013-10-09'] + ds2['2013-09-14'] + ds2['2013-09-16'] + ds2['2013-09-18'] + ds2['2013-09-20'] + ds2['2013-09-22'] + ds2['2013-09-24'] + ds2['2013-09-28']\n",
    "ds2['Winter'] = ds2['2013-12-09'] + ds2['2013-12-10'] + ds2['2013-02-09'] \n",
    "ds2['Spring'] = ds2['2013-04-09']"
   ]
  },
  {
   "cell_type": "code",
   "execution_count": 78,
   "id": "0509c718-f489-4a56-9e04-922acd45059b",
   "metadata": {},
   "outputs": [
    {
     "data": {
      "text/plain": [
       "Summer     711176.0\n",
       "Autumn    1406481.0\n",
       "Winter     487533.0\n",
       "Spring     149336.0\n",
       "dtype: float64"
      ]
     },
     "execution_count": 78,
     "metadata": {},
     "output_type": "execute_result"
    }
   ],
   "source": [
    "# calculate the sum of sales in each seasons in inp1 i.e. \"Dress Sales\".\n",
    "ds2[['Summer','Autumn','Winter','Spring']].sum()"
   ]
  },
  {
   "cell_type": "code",
   "execution_count": 79,
   "id": "dea1d35b-8f00-44d7-ab47-326fb3fbda24",
   "metadata": {},
   "outputs": [
    {
     "data": {
      "text/html": [
       "<div>\n",
       "<style scoped>\n",
       "    .dataframe tbody tr th:only-of-type {\n",
       "        vertical-align: middle;\n",
       "    }\n",
       "\n",
       "    .dataframe tbody tr th {\n",
       "        vertical-align: top;\n",
       "    }\n",
       "\n",
       "    .dataframe thead th {\n",
       "        text-align: right;\n",
       "    }\n",
       "</style>\n",
       "<table border=\"1\" class=\"dataframe\">\n",
       "  <thead>\n",
       "    <tr style=\"text-align: right;\">\n",
       "      <th></th>\n",
       "      <th>Style</th>\n",
       "      <th>Price</th>\n",
       "      <th>Rating</th>\n",
       "      <th>Size</th>\n",
       "      <th>Season</th>\n",
       "      <th>NeckLine</th>\n",
       "      <th>SleeveLength</th>\n",
       "      <th>waiseline</th>\n",
       "      <th>Material</th>\n",
       "      <th>FabricType</th>\n",
       "      <th>...</th>\n",
       "      <th>2013-09-20</th>\n",
       "      <th>2013-09-22</th>\n",
       "      <th>2013-09-24</th>\n",
       "      <th>2013-09-28</th>\n",
       "      <th>2013-06-10</th>\n",
       "      <th>2013-12-10</th>\n",
       "      <th>Summer</th>\n",
       "      <th>Autumn</th>\n",
       "      <th>Winter</th>\n",
       "      <th>Spring</th>\n",
       "    </tr>\n",
       "    <tr>\n",
       "      <th>Dress_ID</th>\n",
       "      <th></th>\n",
       "      <th></th>\n",
       "      <th></th>\n",
       "      <th></th>\n",
       "      <th></th>\n",
       "      <th></th>\n",
       "      <th></th>\n",
       "      <th></th>\n",
       "      <th></th>\n",
       "      <th></th>\n",
       "      <th></th>\n",
       "      <th></th>\n",
       "      <th></th>\n",
       "      <th></th>\n",
       "      <th></th>\n",
       "      <th></th>\n",
       "      <th></th>\n",
       "      <th></th>\n",
       "      <th></th>\n",
       "      <th></th>\n",
       "      <th></th>\n",
       "    </tr>\n",
       "  </thead>\n",
       "  <tbody>\n",
       "    <tr>\n",
       "      <th>1006032852</th>\n",
       "      <td>Sexy</td>\n",
       "      <td>Low</td>\n",
       "      <td>4.6</td>\n",
       "      <td>Medium</td>\n",
       "      <td>Summer</td>\n",
       "      <td>o-neck</td>\n",
       "      <td>sleevless</td>\n",
       "      <td>empire</td>\n",
       "      <td>NaN</td>\n",
       "      <td>chiffon</td>\n",
       "      <td>...</td>\n",
       "      <td>3386.0</td>\n",
       "      <td>3479.0</td>\n",
       "      <td>3554</td>\n",
       "      <td>3706</td>\n",
       "      <td>3897</td>\n",
       "      <td>4048</td>\n",
       "      <td>13899</td>\n",
       "      <td>26857.0</td>\n",
       "      <td>9658.0</td>\n",
       "      <td>2660</td>\n",
       "    </tr>\n",
       "    <tr>\n",
       "      <th>1212192089</th>\n",
       "      <td>Casual</td>\n",
       "      <td>Low</td>\n",
       "      <td>0.0</td>\n",
       "      <td>Large</td>\n",
       "      <td>Summer</td>\n",
       "      <td>o-neck</td>\n",
       "      <td>Petal</td>\n",
       "      <td>natural</td>\n",
       "      <td>microfiber</td>\n",
       "      <td>NaN</td>\n",
       "      <td>...</td>\n",
       "      <td>2106.0</td>\n",
       "      <td>2454.0</td>\n",
       "      <td>2710</td>\n",
       "      <td>3258</td>\n",
       "      <td>3911</td>\n",
       "      <td>4277</td>\n",
       "      <td>6216</td>\n",
       "      <td>17311.0</td>\n",
       "      <td>6405.0</td>\n",
       "      <td>750</td>\n",
       "    </tr>\n",
       "    <tr>\n",
       "      <th>1190380701</th>\n",
       "      <td>vintage</td>\n",
       "      <td>High</td>\n",
       "      <td>0.0</td>\n",
       "      <td>Large</td>\n",
       "      <td>Automn</td>\n",
       "      <td>o-neck</td>\n",
       "      <td>full</td>\n",
       "      <td>natural</td>\n",
       "      <td>polyster</td>\n",
       "      <td>NaN</td>\n",
       "      <td>...</td>\n",
       "      <td>10.0</td>\n",
       "      <td>11.0</td>\n",
       "      <td>11</td>\n",
       "      <td>11</td>\n",
       "      <td>11</td>\n",
       "      <td>11</td>\n",
       "      <td>40</td>\n",
       "      <td>82.0</td>\n",
       "      <td>28.0</td>\n",
       "      <td>7</td>\n",
       "    </tr>\n",
       "    <tr>\n",
       "      <th>966005983</th>\n",
       "      <td>Brief</td>\n",
       "      <td>Average</td>\n",
       "      <td>4.6</td>\n",
       "      <td>Large</td>\n",
       "      <td>Spring</td>\n",
       "      <td>o-neck</td>\n",
       "      <td>full</td>\n",
       "      <td>natural</td>\n",
       "      <td>silk</td>\n",
       "      <td>chiffon</td>\n",
       "      <td>...</td>\n",
       "      <td>1812.0</td>\n",
       "      <td>1845.0</td>\n",
       "      <td>1878</td>\n",
       "      <td>1914</td>\n",
       "      <td>1952</td>\n",
       "      <td>1963</td>\n",
       "      <td>7213</td>\n",
       "      <td>14411.0</td>\n",
       "      <td>5012.0</td>\n",
       "      <td>1455</td>\n",
       "    </tr>\n",
       "    <tr>\n",
       "      <th>876339541</th>\n",
       "      <td>cute</td>\n",
       "      <td>Low</td>\n",
       "      <td>4.5</td>\n",
       "      <td>Medium</td>\n",
       "      <td>Summer</td>\n",
       "      <td>o-neck</td>\n",
       "      <td>butterfly</td>\n",
       "      <td>natural</td>\n",
       "      <td>chiffonfabric</td>\n",
       "      <td>chiffon</td>\n",
       "      <td>...</td>\n",
       "      <td>1824.0</td>\n",
       "      <td>1919.0</td>\n",
       "      <td>2032</td>\n",
       "      <td>2252</td>\n",
       "      <td>2544</td>\n",
       "      <td>2736</td>\n",
       "      <td>7706</td>\n",
       "      <td>14676.0</td>\n",
       "      <td>5678.0</td>\n",
       "      <td>1396</td>\n",
       "    </tr>\n",
       "  </tbody>\n",
       "</table>\n",
       "<p>5 rows × 34 columns</p>\n",
       "</div>"
      ],
      "text/plain": [
       "              Style    Price  Rating    Size  Season NeckLine SleeveLength  \\\n",
       "Dress_ID                                                                     \n",
       "1006032852     Sexy      Low     4.6  Medium  Summer   o-neck    sleevless   \n",
       "1212192089   Casual      Low     0.0   Large  Summer   o-neck        Petal   \n",
       "1190380701  vintage     High     0.0   Large  Automn   o-neck         full   \n",
       "966005983     Brief  Average     4.6   Large  Spring   o-neck         full   \n",
       "876339541      cute      Low     4.5  Medium  Summer   o-neck    butterfly   \n",
       "\n",
       "           waiseline       Material FabricType  ... 2013-09-20 2013-09-22  \\\n",
       "Dress_ID                                        ...                         \n",
       "1006032852    empire            NaN    chiffon  ...     3386.0     3479.0   \n",
       "1212192089   natural     microfiber        NaN  ...     2106.0     2454.0   \n",
       "1190380701   natural       polyster        NaN  ...       10.0       11.0   \n",
       "966005983    natural           silk    chiffon  ...     1812.0     1845.0   \n",
       "876339541    natural  chiffonfabric    chiffon  ...     1824.0     1919.0   \n",
       "\n",
       "            2013-09-24  2013-09-28  2013-06-10  2013-12-10  Summer   Autumn  \\\n",
       "Dress_ID                                                                      \n",
       "1006032852        3554        3706        3897        4048   13899  26857.0   \n",
       "1212192089        2710        3258        3911        4277    6216  17311.0   \n",
       "1190380701          11          11          11          11      40     82.0   \n",
       "966005983         1878        1914        1952        1963    7213  14411.0   \n",
       "876339541         2032        2252        2544        2736    7706  14676.0   \n",
       "\n",
       "            Winter  Spring  \n",
       "Dress_ID                    \n",
       "1006032852  9658.0    2660  \n",
       "1212192089  6405.0     750  \n",
       "1190380701    28.0       7  \n",
       "966005983   5012.0    1455  \n",
       "876339541   5678.0    1396  \n",
       "\n",
       "[5 rows x 34 columns]"
      ]
     },
     "execution_count": 79,
     "metadata": {},
     "output_type": "execute_result"
    }
   ],
   "source": [
    "# Merge ds1 with inp1 into ds1. this is also called left merge.\n",
    "ds1 = pd.merge(left=ds1,right=ds2, how='left', left_on='Dress_ID', right_on='Dress_ID')\n",
    "ds1.head()"
   ]
  },
  {
   "cell_type": "code",
   "execution_count": 80,
   "id": "88d6e188-5cdf-4792-ab86-90eed90c0537",
   "metadata": {},
   "outputs": [],
   "source": [
    "# Now Drop the Date columns from ds1 as it is already combined into four seasons.\n",
    "ds1.drop(ds1.loc[:,'2013-08-29':'2013-12-10'].columns, axis= 1, inplace= True)"
   ]
  },
  {
   "cell_type": "code",
   "execution_count": 81,
   "id": "f5dfb2f0-ebd3-4cfe-b099-d4d4bdaebde6",
   "metadata": {},
   "outputs": [
    {
     "data": {
      "text/plain": [
       "Style               0\n",
       "Price               2\n",
       "Rating              0\n",
       "Size                0\n",
       "Season              2\n",
       "NeckLine            3\n",
       "SleeveLength        2\n",
       "waiseline          92\n",
       "Material          147\n",
       "FabricType        292\n",
       "Decoration        266\n",
       "Pattern Type      119\n",
       "Recommendation      0\n",
       "Summer              0\n",
       "Autumn              2\n",
       "Winter              1\n",
       "Spring              0\n",
       "dtype: int64"
      ]
     },
     "execution_count": 81,
     "metadata": {},
     "output_type": "execute_result"
    }
   ],
   "source": [
    "# Print the null count of each columns in ds1 dataframe i.e. combined data frame of ds1 and inp1 without date columns.\n",
    "ds1.isnull().sum()"
   ]
  },
  {
   "cell_type": "code",
   "execution_count": 82,
   "id": "680ba704-8d0d-45ee-8951-fa5525412143",
   "metadata": {},
   "outputs": [],
   "source": [
    "# Deal with the missing values of Type-1 columns: Price, Season, NeckLine, SleeveLength, Winter and Autumn.\n",
    "ds1['Price'].fillna(ds1['Price'].mode(), inplace=True)\n",
    "ds1['Season'].fillna(ds1['Season'].mode(), inplace=True)\n",
    "ds1['NeckLine'].fillna(ds1['NeckLine'].mode(), inplace=True)\n",
    "ds1['SleeveLength'].fillna(ds1['SleeveLength'].mode(), inplace=True)\n",
    "ds1['Winter'].fillna(ds1['Winter'].mode(), inplace=True)\n",
    "ds1['Autumn'].fillna(ds1['Autumn'].mode(), inplace=True)"
   ]
  },
  {
   "cell_type": "code",
   "execution_count": 83,
   "id": "137f4451-15d6-410c-b1a5-a0f7ab7d5167",
   "metadata": {},
   "outputs": [
    {
     "data": {
      "text/plain": [
       "Style             0\n",
       "Price             0\n",
       "Rating            0\n",
       "Size              0\n",
       "Season            0\n",
       "NeckLine          0\n",
       "SleeveLength      0\n",
       "waiseline         4\n",
       "Material          0\n",
       "FabricType        0\n",
       "Decoration        0\n",
       "Pattern Type      0\n",
       "Recommendation    0\n",
       "Summer            0\n",
       "Autumn            1\n",
       "Winter            0\n",
       "Spring            0\n",
       "dtype: int64"
      ]
     },
     "execution_count": 83,
     "metadata": {},
     "output_type": "execute_result"
    }
   ],
   "source": [
    "# Deal with the missing values for Type-2 columns: Material, FabricType, Decoration and Pattern Type.\n",
    "ds1.dropna(axis=0, subset=['Material','FabricType','Decoration','Pattern Type'], inplace=True)\n",
    "ds1.isnull().sum()"
   ]
  },
  {
   "cell_type": "code",
   "execution_count": 84,
   "id": "c6650b17-9a4e-45b7-89d8-5d03932c8645",
   "metadata": {},
   "outputs": [
    {
     "data": {
      "text/plain": [
       "array(['Spring', 'Summer', 'Automn', 'Winter', 'winter', 'Autumn'],\n",
       "      dtype=object)"
      ]
     },
     "execution_count": 84,
     "metadata": {},
     "output_type": "execute_result"
    }
   ],
   "source": [
    "#correcting the spellings.\n",
    "ds1['Season'].unique()"
   ]
  },
  {
   "cell_type": "code",
   "execution_count": 86,
   "id": "c85c614d-bad1-450f-949e-b68350f95e1b",
   "metadata": {},
   "outputs": [
    {
     "data": {
      "text/plain": [
       "array(['Spring', 'Summer', 'Autumn', 'Winter'], dtype=object)"
      ]
     },
     "execution_count": 86,
     "metadata": {},
     "output_type": "execute_result"
    }
   ],
   "source": [
    "ds1['Season'].replace(['Automn','winter'], ['Autumn','Winter'], inplace=True)\n",
    "ds1['Season'].unique()"
   ]
  },
  {
   "cell_type": "code",
   "execution_count": 87,
   "id": "6c76b698-a056-4a15-b85d-d751f10e33fc",
   "metadata": {},
   "outputs": [
    {
     "data": {
      "text/plain": [
       "array(['full', 'butterfly', 'short', 'sleevless', 'halfsleeve',\n",
       "       'threequarter', 'thressqatar'], dtype=object)"
      ]
     },
     "execution_count": 87,
     "metadata": {},
     "output_type": "execute_result"
    }
   ],
   "source": [
    "ds1['SleeveLength'].unique()"
   ]
  },
  {
   "cell_type": "code",
   "execution_count": 88,
   "id": "9c124c25-9678-43c9-bb35-1b7dd8b39043",
   "metadata": {},
   "outputs": [
    {
     "data": {
      "text/plain": [
       "array(['full', 'butterfly', 'short', 'sleevless', 'halfsleeve',\n",
       "       'threequarter'], dtype=object)"
      ]
     },
     "execution_count": 88,
     "metadata": {},
     "output_type": "execute_result"
    }
   ],
   "source": [
    "ds1['SleeveLength'].replace(['thressqatar'], ['threequarter'], inplace=True)\n",
    "ds1['SleeveLength'].unique()"
   ]
  },
  {
   "cell_type": "code",
   "execution_count": 90,
   "id": "0820388f-20c6-4f03-848d-17075331f327",
   "metadata": {},
   "outputs": [
    {
     "data": {
      "text/html": [
       "<div>\n",
       "<style scoped>\n",
       "    .dataframe tbody tr th:only-of-type {\n",
       "        vertical-align: middle;\n",
       "    }\n",
       "\n",
       "    .dataframe tbody tr th {\n",
       "        vertical-align: top;\n",
       "    }\n",
       "\n",
       "    .dataframe thead th {\n",
       "        text-align: right;\n",
       "    }\n",
       "</style>\n",
       "<table border=\"1\" class=\"dataframe\">\n",
       "  <thead>\n",
       "    <tr style=\"text-align: right;\">\n",
       "      <th></th>\n",
       "      <th>Style</th>\n",
       "      <th>Price</th>\n",
       "      <th>Rating</th>\n",
       "      <th>Size</th>\n",
       "      <th>Season</th>\n",
       "      <th>NeckLine</th>\n",
       "      <th>SleeveLength</th>\n",
       "      <th>waiseline</th>\n",
       "      <th>Material</th>\n",
       "      <th>FabricType</th>\n",
       "      <th>Decoration</th>\n",
       "      <th>Pattern Type</th>\n",
       "      <th>Recommendation</th>\n",
       "      <th>Summer</th>\n",
       "      <th>Autumn</th>\n",
       "      <th>Winter</th>\n",
       "      <th>Spring</th>\n",
       "    </tr>\n",
       "    <tr>\n",
       "      <th>Dress_ID</th>\n",
       "      <th></th>\n",
       "      <th></th>\n",
       "      <th></th>\n",
       "      <th></th>\n",
       "      <th></th>\n",
       "      <th></th>\n",
       "      <th></th>\n",
       "      <th></th>\n",
       "      <th></th>\n",
       "      <th></th>\n",
       "      <th></th>\n",
       "      <th></th>\n",
       "      <th></th>\n",
       "      <th></th>\n",
       "      <th></th>\n",
       "      <th></th>\n",
       "      <th></th>\n",
       "    </tr>\n",
       "  </thead>\n",
       "  <tbody>\n",
       "    <tr>\n",
       "      <th>966005983</th>\n",
       "      <td>Brief</td>\n",
       "      <td>Average</td>\n",
       "      <td>4.6</td>\n",
       "      <td>Large</td>\n",
       "      <td>Spring</td>\n",
       "      <td>o-neck</td>\n",
       "      <td>full</td>\n",
       "      <td>natural</td>\n",
       "      <td>silk</td>\n",
       "      <td>chiffon</td>\n",
       "      <td>embroidary</td>\n",
       "      <td>print</td>\n",
       "      <td>1</td>\n",
       "      <td>7213</td>\n",
       "      <td>14411.0</td>\n",
       "      <td>5012.0</td>\n",
       "      <td>1455</td>\n",
       "    </tr>\n",
       "    <tr>\n",
       "      <th>876339541</th>\n",
       "      <td>cute</td>\n",
       "      <td>Low</td>\n",
       "      <td>4.5</td>\n",
       "      <td>Medium</td>\n",
       "      <td>Summer</td>\n",
       "      <td>o-neck</td>\n",
       "      <td>butterfly</td>\n",
       "      <td>natural</td>\n",
       "      <td>chiffonfabric</td>\n",
       "      <td>chiffon</td>\n",
       "      <td>bow</td>\n",
       "      <td>dot</td>\n",
       "      <td>0</td>\n",
       "      <td>7706</td>\n",
       "      <td>14676.0</td>\n",
       "      <td>5678.0</td>\n",
       "      <td>1396</td>\n",
       "    </tr>\n",
       "    <tr>\n",
       "      <th>1113094204</th>\n",
       "      <td>Flare</td>\n",
       "      <td>Average</td>\n",
       "      <td>0.0</td>\n",
       "      <td>Free</td>\n",
       "      <td>Spring</td>\n",
       "      <td>v-neck</td>\n",
       "      <td>short</td>\n",
       "      <td>empire</td>\n",
       "      <td>cotton</td>\n",
       "      <td>broadcloth</td>\n",
       "      <td>beading</td>\n",
       "      <td>solid</td>\n",
       "      <td>1</td>\n",
       "      <td>68</td>\n",
       "      <td>181.0</td>\n",
       "      <td>60.0</td>\n",
       "      <td>12</td>\n",
       "    </tr>\n",
       "    <tr>\n",
       "      <th>1117293701</th>\n",
       "      <td>party</td>\n",
       "      <td>Average</td>\n",
       "      <td>5.0</td>\n",
       "      <td>Free</td>\n",
       "      <td>Summer</td>\n",
       "      <td>o-neck</td>\n",
       "      <td>full</td>\n",
       "      <td>natural</td>\n",
       "      <td>polyster</td>\n",
       "      <td>broadcloth</td>\n",
       "      <td>lace</td>\n",
       "      <td>solid</td>\n",
       "      <td>0</td>\n",
       "      <td>275</td>\n",
       "      <td>624.0</td>\n",
       "      <td>245.0</td>\n",
       "      <td>49</td>\n",
       "    </tr>\n",
       "    <tr>\n",
       "      <th>942808364</th>\n",
       "      <td>cute</td>\n",
       "      <td>Low</td>\n",
       "      <td>4.3</td>\n",
       "      <td>Free</td>\n",
       "      <td>Autumn</td>\n",
       "      <td>o-neck</td>\n",
       "      <td>sleevless</td>\n",
       "      <td>natural</td>\n",
       "      <td>polyster</td>\n",
       "      <td>chiffon</td>\n",
       "      <td>sashes</td>\n",
       "      <td>striped</td>\n",
       "      <td>0</td>\n",
       "      <td>2288</td>\n",
       "      <td>4073.0</td>\n",
       "      <td>1497.0</td>\n",
       "      <td>475</td>\n",
       "    </tr>\n",
       "  </tbody>\n",
       "</table>\n",
       "</div>"
      ],
      "text/plain": [
       "            Style    Price  Rating    Size  Season NeckLine SleeveLength  \\\n",
       "Dress_ID                                                                   \n",
       "966005983   Brief  Average     4.6   Large  Spring   o-neck         full   \n",
       "876339541    cute      Low     4.5  Medium  Summer   o-neck    butterfly   \n",
       "1113094204  Flare  Average     0.0    Free  Spring   v-neck        short   \n",
       "1117293701  party  Average     5.0    Free  Summer   o-neck         full   \n",
       "942808364    cute      Low     4.3    Free  Autumn   o-neck    sleevless   \n",
       "\n",
       "           waiseline       Material  FabricType  Decoration Pattern Type  \\\n",
       "Dress_ID                                                                   \n",
       "966005983    natural           silk     chiffon  embroidary        print   \n",
       "876339541    natural  chiffonfabric     chiffon         bow          dot   \n",
       "1113094204    empire         cotton  broadcloth     beading        solid   \n",
       "1117293701   natural       polyster  broadcloth        lace        solid   \n",
       "942808364    natural       polyster     chiffon      sashes      striped   \n",
       "\n",
       "            Recommendation  Summer   Autumn  Winter  Spring  \n",
       "Dress_ID                                                     \n",
       "966005983                1    7213  14411.0  5012.0    1455  \n",
       "876339541                0    7706  14676.0  5678.0    1396  \n",
       "1113094204               1      68    181.0    60.0      12  \n",
       "1117293701               0     275    624.0   245.0      49  \n",
       "942808364                0    2288   4073.0  1497.0     475  "
      ]
     },
     "execution_count": 90,
     "metadata": {},
     "output_type": "execute_result"
    }
   ],
   "source": [
    "ds1.head()"
   ]
  },
  {
   "cell_type": "code",
   "execution_count": 92,
   "id": "570b1372-bec9-42d8-b675-8ac0d49dcaa4",
   "metadata": {},
   "outputs": [
    {
     "data": {
      "text/html": [
       "<div>\n",
       "<style scoped>\n",
       "    .dataframe tbody tr th:only-of-type {\n",
       "        vertical-align: middle;\n",
       "    }\n",
       "\n",
       "    .dataframe tbody tr th {\n",
       "        vertical-align: top;\n",
       "    }\n",
       "\n",
       "    .dataframe thead th {\n",
       "        text-align: right;\n",
       "    }\n",
       "</style>\n",
       "<table border=\"1\" class=\"dataframe\">\n",
       "  <thead>\n",
       "    <tr style=\"text-align: right;\">\n",
       "      <th></th>\n",
       "      <th>Style</th>\n",
       "      <th>total</th>\n",
       "    </tr>\n",
       "  </thead>\n",
       "  <tbody>\n",
       "    <tr>\n",
       "      <th>2</th>\n",
       "      <td>Flare</td>\n",
       "      <td>321.0</td>\n",
       "    </tr>\n",
       "    <tr>\n",
       "      <th>3</th>\n",
       "      <td>Novelty</td>\n",
       "      <td>5728.0</td>\n",
       "    </tr>\n",
       "    <tr>\n",
       "      <th>5</th>\n",
       "      <td>bohemian</td>\n",
       "      <td>18463.0</td>\n",
       "    </tr>\n",
       "    <tr>\n",
       "      <th>7</th>\n",
       "      <td>party</td>\n",
       "      <td>27303.0</td>\n",
       "    </tr>\n",
       "    <tr>\n",
       "      <th>8</th>\n",
       "      <td>sexy</td>\n",
       "      <td>11403.0</td>\n",
       "    </tr>\n",
       "    <tr>\n",
       "      <th>9</th>\n",
       "      <td>vintage</td>\n",
       "      <td>9769.0</td>\n",
       "    </tr>\n",
       "    <tr>\n",
       "      <th>10</th>\n",
       "      <td>work</td>\n",
       "      <td>21837.0</td>\n",
       "    </tr>\n",
       "  </tbody>\n",
       "</table>\n",
       "</div>"
      ],
      "text/plain": [
       "       Style    total\n",
       "2      Flare    321.0\n",
       "3    Novelty   5728.0\n",
       "5   bohemian  18463.0\n",
       "7      party  27303.0\n",
       "8       sexy  11403.0\n",
       "9    vintage   9769.0\n",
       "10      work  21837.0"
      ]
     },
     "execution_count": 92,
     "metadata": {},
     "output_type": "execute_result"
    }
   ],
   "source": [
    "# Group \"Style\" categories into \"Others\" which have less than 50000 sales across all the seasons.\n",
    "ds1['total'] = ds1['Summer'] + ds1['Autumn'] + ds1['Winter'] + ds1['Spring']\n",
    "style_group = ds1['total'].groupby(ds1['Style']).sum().reset_index()\n",
    "res = style_group.loc[style_group['total']<50000]\n",
    "res"
   ]
  },
  {
   "cell_type": "code",
   "execution_count": 93,
   "id": "6b834317-cafb-4127-91e9-8360552f742c",
   "metadata": {},
   "outputs": [
    {
     "data": {
      "text/plain": [
       "array(['Brief', 'cute', 'Others', 'Casual', 'Sexy'], dtype=object)"
      ]
     },
     "execution_count": 93,
     "metadata": {},
     "output_type": "execute_result"
    }
   ],
   "source": [
    "ds1['Style'].replace(['Flare','Novelty','bohemian','party','party','sexy','vintage','work'], 'Others', inplace=True)\n",
    "ds1['Style'].unique()"
   ]
  },
  {
   "cell_type": "code",
   "execution_count": 94,
   "id": "ab058864-f3e6-40d0-bd41-b90bb7e5ed3f",
   "metadata": {},
   "outputs": [
    {
     "data": {
      "text/plain": [
       "Casual    44.444444\n",
       "cute      21.296296\n",
       "Others    18.518519\n",
       "Sexy      12.037037\n",
       "Brief      3.703704\n",
       "Name: Style, dtype: float64"
      ]
     },
     "execution_count": 94,
     "metadata": {},
     "output_type": "execute_result"
    }
   ],
   "source": [
    "# Calculate the percentage of each categories in the \"Style\" variable.\n",
    "ds1['Style'].value_counts(normalize=True)*100"
   ]
  },
  {
   "cell_type": "code",
   "execution_count": 95,
   "id": "0f1cf68c-97f1-4af3-af51-43359437768d",
   "metadata": {},
   "outputs": [
    {
     "data": {
      "text/html": [
       "<div>\n",
       "<style scoped>\n",
       "    .dataframe tbody tr th:only-of-type {\n",
       "        vertical-align: middle;\n",
       "    }\n",
       "\n",
       "    .dataframe tbody tr th {\n",
       "        vertical-align: top;\n",
       "    }\n",
       "\n",
       "    .dataframe thead th {\n",
       "        text-align: right;\n",
       "    }\n",
       "</style>\n",
       "<table border=\"1\" class=\"dataframe\">\n",
       "  <thead>\n",
       "    <tr style=\"text-align: right;\">\n",
       "      <th></th>\n",
       "      <th>NeckLine</th>\n",
       "      <th>total</th>\n",
       "    </tr>\n",
       "  </thead>\n",
       "  <tbody>\n",
       "    <tr>\n",
       "      <th>0</th>\n",
       "      <td>Sweetheart</td>\n",
       "      <td>3499.0</td>\n",
       "    </tr>\n",
       "    <tr>\n",
       "      <th>1</th>\n",
       "      <td>boat-neck</td>\n",
       "      <td>4322.0</td>\n",
       "    </tr>\n",
       "    <tr>\n",
       "      <th>2</th>\n",
       "      <td>bowneck</td>\n",
       "      <td>2560.0</td>\n",
       "    </tr>\n",
       "    <tr>\n",
       "      <th>4</th>\n",
       "      <td>open</td>\n",
       "      <td>705.0</td>\n",
       "    </tr>\n",
       "    <tr>\n",
       "      <th>5</th>\n",
       "      <td>peterpan-collor</td>\n",
       "      <td>13420.0</td>\n",
       "    </tr>\n",
       "    <tr>\n",
       "      <th>7</th>\n",
       "      <td>slash-neck</td>\n",
       "      <td>10510.0</td>\n",
       "    </tr>\n",
       "    <tr>\n",
       "      <th>8</th>\n",
       "      <td>turndowncollor</td>\n",
       "      <td>2854.0</td>\n",
       "    </tr>\n",
       "  </tbody>\n",
       "</table>\n",
       "</div>"
      ],
      "text/plain": [
       "          NeckLine    total\n",
       "0       Sweetheart   3499.0\n",
       "1        boat-neck   4322.0\n",
       "2          bowneck   2560.0\n",
       "4             open    705.0\n",
       "5  peterpan-collor  13420.0\n",
       "7       slash-neck  10510.0\n",
       "8   turndowncollor   2854.0"
      ]
     },
     "execution_count": 95,
     "metadata": {},
     "output_type": "execute_result"
    }
   ],
   "source": [
    "# Group \"Neckline\" categories into \"Others\" which have less than 50000 sales across all the seasons.\n",
    "neck_group = ds1['total'].groupby(ds1['NeckLine']).sum().reset_index()\n",
    "res = neck_group.loc[neck_group['total']<50000]\n",
    "res"
   ]
  },
  {
   "cell_type": "code",
   "execution_count": 96,
   "id": "94bc8d1d-4ed2-467c-818f-f7624cf24f90",
   "metadata": {},
   "outputs": [
    {
     "data": {
      "text/plain": [
       "array(['o-neck', 'v-neck', 'ruffled', 'boat-neck', 'Others'], dtype=object)"
      ]
     },
     "execution_count": 96,
     "metadata": {},
     "output_type": "execute_result"
    }
   ],
   "source": [
    "ds1['NeckLine'].replace(['Sweetheart','boart-neck','bowneck','open','peterpan-collor','slash-neck','turndowncollor'], 'Others', inplace=True)\n",
    "ds1['NeckLine'].unique()"
   ]
  },
  {
   "cell_type": "code",
   "execution_count": 97,
   "id": "9179d54d-a071-405d-b7d8-b1b0e70bb5e2",
   "metadata": {},
   "outputs": [
    {
     "data": {
      "text/html": [
       "<div>\n",
       "<style scoped>\n",
       "    .dataframe tbody tr th:only-of-type {\n",
       "        vertical-align: middle;\n",
       "    }\n",
       "\n",
       "    .dataframe tbody tr th {\n",
       "        vertical-align: top;\n",
       "    }\n",
       "\n",
       "    .dataframe thead th {\n",
       "        text-align: right;\n",
       "    }\n",
       "</style>\n",
       "<table border=\"1\" class=\"dataframe\">\n",
       "  <thead>\n",
       "    <tr style=\"text-align: right;\">\n",
       "      <th></th>\n",
       "      <th>SleeveLength</th>\n",
       "      <th>total</th>\n",
       "    </tr>\n",
       "  </thead>\n",
       "  <tbody>\n",
       "    <tr>\n",
       "      <th>0</th>\n",
       "      <td>butterfly</td>\n",
       "      <td>29456.0</td>\n",
       "    </tr>\n",
       "    <tr>\n",
       "      <th>5</th>\n",
       "      <td>threequarter</td>\n",
       "      <td>12607.0</td>\n",
       "    </tr>\n",
       "  </tbody>\n",
       "</table>\n",
       "</div>"
      ],
      "text/plain": [
       "   SleeveLength    total\n",
       "0     butterfly  29456.0\n",
       "5  threequarter  12607.0"
      ]
     },
     "execution_count": 97,
     "metadata": {},
     "output_type": "execute_result"
    }
   ],
   "source": [
    "# Group \"Sleeve length\" categories into \"Others\" which have less than 50000 sales across all the seasons.\n",
    "sleeve_group = ds1['total'].groupby(ds1['SleeveLength']).sum().reset_index()\n",
    "res = sleeve_group.loc[sleeve_group['total']<50000]\n",
    "res"
   ]
  },
  {
   "cell_type": "code",
   "execution_count": 98,
   "id": "e5b1c4d9-819f-416e-a1ab-6b551bcae1ba",
   "metadata": {},
   "outputs": [
    {
     "data": {
      "text/plain": [
       "array(['full', 'Others', 'short', 'sleevless', 'halfsleeve'], dtype=object)"
      ]
     },
     "execution_count": 98,
     "metadata": {},
     "output_type": "execute_result"
    }
   ],
   "source": [
    "ds1['SleeveLength'].replace(['butterfly','threequarter'], 'Others', inplace=True)\n",
    "ds1['SleeveLength'].unique()"
   ]
  },
  {
   "cell_type": "code",
   "execution_count": 99,
   "id": "d4ff8a6c-b951-4ff2-aa2d-86827f411ae7",
   "metadata": {},
   "outputs": [
    {
     "data": {
      "text/html": [
       "<div>\n",
       "<style scoped>\n",
       "    .dataframe tbody tr th:only-of-type {\n",
       "        vertical-align: middle;\n",
       "    }\n",
       "\n",
       "    .dataframe tbody tr th {\n",
       "        vertical-align: top;\n",
       "    }\n",
       "\n",
       "    .dataframe thead th {\n",
       "        text-align: right;\n",
       "    }\n",
       "</style>\n",
       "<table border=\"1\" class=\"dataframe\">\n",
       "  <thead>\n",
       "    <tr style=\"text-align: right;\">\n",
       "      <th></th>\n",
       "      <th>Material</th>\n",
       "      <th>total</th>\n",
       "    </tr>\n",
       "  </thead>\n",
       "  <tbody>\n",
       "    <tr>\n",
       "      <th>2</th>\n",
       "      <td>linen</td>\n",
       "      <td>17098.0</td>\n",
       "    </tr>\n",
       "    <tr>\n",
       "      <th>3</th>\n",
       "      <td>lycra</td>\n",
       "      <td>12517.0</td>\n",
       "    </tr>\n",
       "    <tr>\n",
       "      <th>5</th>\n",
       "      <td>model</td>\n",
       "      <td>245.0</td>\n",
       "    </tr>\n",
       "    <tr>\n",
       "      <th>6</th>\n",
       "      <td>nylon</td>\n",
       "      <td>429.0</td>\n",
       "    </tr>\n",
       "    <tr>\n",
       "      <th>7</th>\n",
       "      <td>other</td>\n",
       "      <td>4207.0</td>\n",
       "    </tr>\n",
       "    <tr>\n",
       "      <th>10</th>\n",
       "      <td>shiffon</td>\n",
       "      <td>11166.0</td>\n",
       "    </tr>\n",
       "    <tr>\n",
       "      <th>12</th>\n",
       "      <td>spandex</td>\n",
       "      <td>18463.0</td>\n",
       "    </tr>\n",
       "  </tbody>\n",
       "</table>\n",
       "</div>"
      ],
      "text/plain": [
       "   Material    total\n",
       "2     linen  17098.0\n",
       "3     lycra  12517.0\n",
       "5     model    245.0\n",
       "6     nylon    429.0\n",
       "7     other   4207.0\n",
       "10  shiffon  11166.0\n",
       "12  spandex  18463.0"
      ]
     },
     "execution_count": 99,
     "metadata": {},
     "output_type": "execute_result"
    }
   ],
   "source": [
    "# Group \"material\" categories into \"Others\" which have less than 25000 sales across all the seasons.\n",
    "mat_group = ds1['total'].groupby(ds1['Material']).sum().reset_index()\n",
    "res = mat_group.loc[mat_group['total']<25000]\n",
    "res"
   ]
  },
  {
   "cell_type": "code",
   "execution_count": 100,
   "id": "d72f9b6f-3634-47c8-a4c4-ee4aee0c4857",
   "metadata": {},
   "outputs": [
    {
     "data": {
      "text/plain": [
       "array(['silk', 'chiffonfabric', 'cotton', 'polyster', 'Others', 'rayon',\n",
       "       'mix'], dtype=object)"
      ]
     },
     "execution_count": 100,
     "metadata": {},
     "output_type": "execute_result"
    }
   ],
   "source": [
    "ds1['Material'].replace(['linen','lycra','model','nylon','other','shiffon','spandex'], 'Others', inplace=True)\n",
    "ds1['Material'].unique()"
   ]
  },
  {
   "cell_type": "code",
   "execution_count": 127,
   "id": "0be5c595-8b96-41b3-979f-eb036b4c1bb6",
   "metadata": {},
   "outputs": [
    {
     "data": {
      "text/html": [
       "<div>\n",
       "<style scoped>\n",
       "    .dataframe tbody tr th:only-of-type {\n",
       "        vertical-align: middle;\n",
       "    }\n",
       "\n",
       "    .dataframe tbody tr th {\n",
       "        vertical-align: top;\n",
       "    }\n",
       "\n",
       "    .dataframe thead th {\n",
       "        text-align: right;\n",
       "    }\n",
       "</style>\n",
       "<table border=\"1\" class=\"dataframe\">\n",
       "  <thead>\n",
       "    <tr style=\"text-align: right;\">\n",
       "      <th></th>\n",
       "      <th>FabricType</th>\n",
       "      <th>total</th>\n",
       "    </tr>\n",
       "  </thead>\n",
       "  <tbody>\n",
       "    <tr>\n",
       "      <th>0</th>\n",
       "      <td>Corduroy</td>\n",
       "      <td>8387.0</td>\n",
       "    </tr>\n",
       "    <tr>\n",
       "      <th>4</th>\n",
       "      <td>poplin</td>\n",
       "      <td>705.0</td>\n",
       "    </tr>\n",
       "    <tr>\n",
       "      <th>5</th>\n",
       "      <td>satin</td>\n",
       "      <td>11403.0</td>\n",
       "    </tr>\n",
       "    <tr>\n",
       "      <th>6</th>\n",
       "      <td>sattin</td>\n",
       "      <td>1826.0</td>\n",
       "    </tr>\n",
       "    <tr>\n",
       "      <th>7</th>\n",
       "      <td>shiffon</td>\n",
       "      <td>11642.0</td>\n",
       "    </tr>\n",
       "    <tr>\n",
       "      <th>8</th>\n",
       "      <td>terry</td>\n",
       "      <td>373.0</td>\n",
       "    </tr>\n",
       "    <tr>\n",
       "      <th>9</th>\n",
       "      <td>tulle</td>\n",
       "      <td>2102.0</td>\n",
       "    </tr>\n",
       "    <tr>\n",
       "      <th>10</th>\n",
       "      <td>wollen</td>\n",
       "      <td>2858.0</td>\n",
       "    </tr>\n",
       "    <tr>\n",
       "      <th>11</th>\n",
       "      <td>woolen</td>\n",
       "      <td>0.0</td>\n",
       "    </tr>\n",
       "  </tbody>\n",
       "</table>\n",
       "</div>"
      ],
      "text/plain": [
       "   FabricType    total\n",
       "0    Corduroy   8387.0\n",
       "4      poplin    705.0\n",
       "5       satin  11403.0\n",
       "6      sattin   1826.0\n",
       "7     shiffon  11642.0\n",
       "8       terry    373.0\n",
       "9       tulle   2102.0\n",
       "10     wollen   2858.0\n",
       "11     woolen      0.0"
      ]
     },
     "execution_count": 127,
     "metadata": {},
     "output_type": "execute_result"
    }
   ],
   "source": [
    "# Group \"fabric type\" categories into \"Others\" which have less than 25000 sales across all the seasons.\n",
    "fab_group = ds1['total'].groupby(ds1['FabricType']).sum().reset_index()\n",
    "res = fab_group.loc[fab_group['total']<25000]\n",
    "res"
   ]
  },
  {
   "cell_type": "code",
   "execution_count": 128,
   "id": "05867e35-92da-4d2c-b10f-fbfbfd102c56",
   "metadata": {},
   "outputs": [
    {
     "data": {
      "text/plain": [
       "0     Corduroy\n",
       "4       poplin\n",
       "5        satin\n",
       "6       sattin\n",
       "7      shiffon\n",
       "8        terry\n",
       "9        tulle\n",
       "10      wollen\n",
       "11      woolen\n",
       "Name: FabricType, dtype: object"
      ]
     },
     "execution_count": 128,
     "metadata": {},
     "output_type": "execute_result"
    }
   ],
   "source": [
    "res['FabricType']"
   ]
  },
  {
   "cell_type": "code",
   "execution_count": 130,
   "id": "36d97b13-b494-43bf-a42a-64610337e8f8",
   "metadata": {},
   "outputs": [
    {
     "data": {
      "text/plain": [
       "array(['silk', 'chiffonfabric', 'cotton', 'polyster', 'Others', 'rayon',\n",
       "       'mix'], dtype=object)"
      ]
     },
     "execution_count": 130,
     "metadata": {},
     "output_type": "execute_result"
    }
   ],
   "source": [
    "ds1['Material'].replace(['Corduroy','poplin','sattin','shiffon','terry','tulle','wollen','woolen'], 'Others', inplace=True)\n",
    "ds1['Material'].unique()"
   ]
  },
  {
   "cell_type": "code",
   "execution_count": 131,
   "id": "4dbe93cd-f124-4b54-a668-40647d023c1c",
   "metadata": {},
   "outputs": [
    {
     "data": {
      "text/html": [
       "<div>\n",
       "<style scoped>\n",
       "    .dataframe tbody tr th:only-of-type {\n",
       "        vertical-align: middle;\n",
       "    }\n",
       "\n",
       "    .dataframe tbody tr th {\n",
       "        vertical-align: top;\n",
       "    }\n",
       "\n",
       "    .dataframe thead th {\n",
       "        text-align: right;\n",
       "    }\n",
       "</style>\n",
       "<table border=\"1\" class=\"dataframe\">\n",
       "  <thead>\n",
       "    <tr style=\"text-align: right;\">\n",
       "      <th></th>\n",
       "      <th>Pattern Type</th>\n",
       "      <th>total</th>\n",
       "    </tr>\n",
       "  </thead>\n",
       "  <tbody>\n",
       "    <tr>\n",
       "      <th>0</th>\n",
       "      <td>animal</td>\n",
       "      <td>20270.0</td>\n",
       "    </tr>\n",
       "    <tr>\n",
       "      <th>2</th>\n",
       "      <td>geometric</td>\n",
       "      <td>5632.0</td>\n",
       "    </tr>\n",
       "    <tr>\n",
       "      <th>6</th>\n",
       "      <td>striped</td>\n",
       "      <td>15548.0</td>\n",
       "    </tr>\n",
       "  </tbody>\n",
       "</table>\n",
       "</div>"
      ],
      "text/plain": [
       "  Pattern Type    total\n",
       "0       animal  20270.0\n",
       "2    geometric   5632.0\n",
       "6      striped  15548.0"
      ]
     },
     "execution_count": 131,
     "metadata": {},
     "output_type": "execute_result"
    }
   ],
   "source": [
    "# Group \"patern type\" categories into \"Others\" which have less than 25000 sales across all the seasons.\n",
    "pat_group = ds1['total'].groupby(ds1['Pattern Type']).sum().reset_index()\n",
    "res = pat_group.loc[pat_group['total']<25000]\n",
    "res"
   ]
  },
  {
   "cell_type": "code",
   "execution_count": 132,
   "id": "5c41d188-7f47-4537-8899-b701ac73ea67",
   "metadata": {},
   "outputs": [
    {
     "data": {
      "text/plain": [
       "array(['print', 'dot', 'solid', 'Others', 'patchwork'], dtype=object)"
      ]
     },
     "execution_count": 132,
     "metadata": {},
     "output_type": "execute_result"
    }
   ],
   "source": [
    "ds1['Pattern Type'].replace(['animal','geometric','striped'], 'Others', inplace=True)\n",
    "ds1['Pattern Type'].unique()"
   ]
  },
  {
   "cell_type": "code",
   "execution_count": 133,
   "id": "2cd62537-64d0-446d-a922-a5754440d324",
   "metadata": {},
   "outputs": [
    {
     "data": {
      "text/html": [
       "<div>\n",
       "<style scoped>\n",
       "    .dataframe tbody tr th:only-of-type {\n",
       "        vertical-align: middle;\n",
       "    }\n",
       "\n",
       "    .dataframe tbody tr th {\n",
       "        vertical-align: top;\n",
       "    }\n",
       "\n",
       "    .dataframe thead th {\n",
       "        text-align: right;\n",
       "    }\n",
       "</style>\n",
       "<table border=\"1\" class=\"dataframe\">\n",
       "  <thead>\n",
       "    <tr style=\"text-align: right;\">\n",
       "      <th></th>\n",
       "      <th>Decoration</th>\n",
       "      <th>total</th>\n",
       "    </tr>\n",
       "  </thead>\n",
       "  <tbody>\n",
       "    <tr>\n",
       "      <th>3</th>\n",
       "      <td>cascading</td>\n",
       "      <td>210.0</td>\n",
       "    </tr>\n",
       "    <tr>\n",
       "      <th>4</th>\n",
       "      <td>draped</td>\n",
       "      <td>4744.0</td>\n",
       "    </tr>\n",
       "    <tr>\n",
       "      <th>6</th>\n",
       "      <td>feathers</td>\n",
       "      <td>36.0</td>\n",
       "    </tr>\n",
       "    <tr>\n",
       "      <th>9</th>\n",
       "      <td>none</td>\n",
       "      <td>7743.0</td>\n",
       "    </tr>\n",
       "    <tr>\n",
       "      <th>10</th>\n",
       "      <td>plain</td>\n",
       "      <td>245.0</td>\n",
       "    </tr>\n",
       "    <tr>\n",
       "      <th>11</th>\n",
       "      <td>pockets</td>\n",
       "      <td>4046.0</td>\n",
       "    </tr>\n",
       "    <tr>\n",
       "      <th>12</th>\n",
       "      <td>ruched</td>\n",
       "      <td>7940.0</td>\n",
       "    </tr>\n",
       "    <tr>\n",
       "      <th>15</th>\n",
       "      <td>sequined</td>\n",
       "      <td>5100.0</td>\n",
       "    </tr>\n",
       "    <tr>\n",
       "      <th>16</th>\n",
       "      <td>tassel</td>\n",
       "      <td>939.0</td>\n",
       "    </tr>\n",
       "  </tbody>\n",
       "</table>\n",
       "</div>"
      ],
      "text/plain": [
       "   Decoration   total\n",
       "3   cascading   210.0\n",
       "4      draped  4744.0\n",
       "6    feathers    36.0\n",
       "9        none  7743.0\n",
       "10      plain   245.0\n",
       "11    pockets  4046.0\n",
       "12     ruched  7940.0\n",
       "15   sequined  5100.0\n",
       "16     tassel   939.0"
      ]
     },
     "execution_count": 133,
     "metadata": {},
     "output_type": "execute_result"
    }
   ],
   "source": [
    "# Group \"decoration\" categories into \"Others\" which have less than 25000 sales across all the seasons.\n",
    "dec_group = ds1['total'].groupby(ds1['Decoration']).sum().reset_index()\n",
    "res = dec_group.loc[dec_group['total']<25000]\n",
    "res"
   ]
  },
  {
   "cell_type": "code",
   "execution_count": 134,
   "id": "d2f4194c-1956-485a-bc7e-a9914ba0c94b",
   "metadata": {},
   "outputs": [
    {
     "data": {
      "text/plain": [
       "array(['embroidary', 'bow', 'beading', 'lace', 'sashes', 'ruffles',\n",
       "       'applique', 'hollowout', 'Others'], dtype=object)"
      ]
     },
     "execution_count": 134,
     "metadata": {},
     "output_type": "execute_result"
    }
   ],
   "source": [
    "ds1['Decoration'].replace(['cascading','draped','feathers','none','plain','pockets','ruched','sequined','tassel'], 'Others', inplace=True)\n",
    "ds1['Decoration'].unique()"
   ]
  },
  {
   "cell_type": "code",
   "execution_count": 135,
   "id": "e79cf21d-1043-4b76-be1e-c20598f3717a",
   "metadata": {},
   "outputs": [
    {
     "data": {
      "text/html": [
       "<div>\n",
       "<style scoped>\n",
       "    .dataframe tbody tr th:only-of-type {\n",
       "        vertical-align: middle;\n",
       "    }\n",
       "\n",
       "    .dataframe tbody tr th {\n",
       "        vertical-align: top;\n",
       "    }\n",
       "\n",
       "    .dataframe thead th {\n",
       "        text-align: right;\n",
       "    }\n",
       "</style>\n",
       "<table border=\"1\" class=\"dataframe\">\n",
       "  <thead>\n",
       "    <tr style=\"text-align: right;\">\n",
       "      <th></th>\n",
       "      <th>Style</th>\n",
       "      <th>Price</th>\n",
       "      <th>Rating</th>\n",
       "      <th>Size</th>\n",
       "      <th>Season</th>\n",
       "      <th>NeckLine</th>\n",
       "      <th>SleeveLength</th>\n",
       "      <th>waiseline</th>\n",
       "      <th>Material</th>\n",
       "      <th>FabricType</th>\n",
       "      <th>Decoration</th>\n",
       "      <th>Pattern Type</th>\n",
       "      <th>Recommendation</th>\n",
       "      <th>Summer</th>\n",
       "      <th>Autumn</th>\n",
       "      <th>Winter</th>\n",
       "      <th>Spring</th>\n",
       "      <th>total</th>\n",
       "    </tr>\n",
       "    <tr>\n",
       "      <th>Dress_ID</th>\n",
       "      <th></th>\n",
       "      <th></th>\n",
       "      <th></th>\n",
       "      <th></th>\n",
       "      <th></th>\n",
       "      <th></th>\n",
       "      <th></th>\n",
       "      <th></th>\n",
       "      <th></th>\n",
       "      <th></th>\n",
       "      <th></th>\n",
       "      <th></th>\n",
       "      <th></th>\n",
       "      <th></th>\n",
       "      <th></th>\n",
       "      <th></th>\n",
       "      <th></th>\n",
       "      <th></th>\n",
       "    </tr>\n",
       "  </thead>\n",
       "  <tbody>\n",
       "    <tr>\n",
       "      <th>966005983</th>\n",
       "      <td>Brief</td>\n",
       "      <td>Average</td>\n",
       "      <td>4.6</td>\n",
       "      <td>Large</td>\n",
       "      <td>Spring</td>\n",
       "      <td>o-neck</td>\n",
       "      <td>full</td>\n",
       "      <td>natural</td>\n",
       "      <td>silk</td>\n",
       "      <td>chiffon</td>\n",
       "      <td>embroidary</td>\n",
       "      <td>print</td>\n",
       "      <td>1</td>\n",
       "      <td>7213</td>\n",
       "      <td>14411.0</td>\n",
       "      <td>5012.0</td>\n",
       "      <td>1455</td>\n",
       "      <td>28091.0</td>\n",
       "    </tr>\n",
       "    <tr>\n",
       "      <th>876339541</th>\n",
       "      <td>cute</td>\n",
       "      <td>Low</td>\n",
       "      <td>4.5</td>\n",
       "      <td>Medium</td>\n",
       "      <td>Summer</td>\n",
       "      <td>o-neck</td>\n",
       "      <td>Others</td>\n",
       "      <td>natural</td>\n",
       "      <td>chiffonfabric</td>\n",
       "      <td>chiffon</td>\n",
       "      <td>bow</td>\n",
       "      <td>dot</td>\n",
       "      <td>0</td>\n",
       "      <td>7706</td>\n",
       "      <td>14676.0</td>\n",
       "      <td>5678.0</td>\n",
       "      <td>1396</td>\n",
       "      <td>29456.0</td>\n",
       "    </tr>\n",
       "    <tr>\n",
       "      <th>1113094204</th>\n",
       "      <td>Others</td>\n",
       "      <td>Average</td>\n",
       "      <td>0.0</td>\n",
       "      <td>Free</td>\n",
       "      <td>Spring</td>\n",
       "      <td>v-neck</td>\n",
       "      <td>short</td>\n",
       "      <td>empire</td>\n",
       "      <td>cotton</td>\n",
       "      <td>broadcloth</td>\n",
       "      <td>beading</td>\n",
       "      <td>solid</td>\n",
       "      <td>1</td>\n",
       "      <td>68</td>\n",
       "      <td>181.0</td>\n",
       "      <td>60.0</td>\n",
       "      <td>12</td>\n",
       "      <td>321.0</td>\n",
       "    </tr>\n",
       "    <tr>\n",
       "      <th>1117293701</th>\n",
       "      <td>Others</td>\n",
       "      <td>Average</td>\n",
       "      <td>5.0</td>\n",
       "      <td>Free</td>\n",
       "      <td>Summer</td>\n",
       "      <td>o-neck</td>\n",
       "      <td>full</td>\n",
       "      <td>natural</td>\n",
       "      <td>polyster</td>\n",
       "      <td>broadcloth</td>\n",
       "      <td>lace</td>\n",
       "      <td>solid</td>\n",
       "      <td>0</td>\n",
       "      <td>275</td>\n",
       "      <td>624.0</td>\n",
       "      <td>245.0</td>\n",
       "      <td>49</td>\n",
       "      <td>1193.0</td>\n",
       "    </tr>\n",
       "    <tr>\n",
       "      <th>942808364</th>\n",
       "      <td>cute</td>\n",
       "      <td>Low</td>\n",
       "      <td>4.3</td>\n",
       "      <td>Free</td>\n",
       "      <td>Autumn</td>\n",
       "      <td>o-neck</td>\n",
       "      <td>sleevless</td>\n",
       "      <td>natural</td>\n",
       "      <td>polyster</td>\n",
       "      <td>chiffon</td>\n",
       "      <td>sashes</td>\n",
       "      <td>Others</td>\n",
       "      <td>0</td>\n",
       "      <td>2288</td>\n",
       "      <td>4073.0</td>\n",
       "      <td>1497.0</td>\n",
       "      <td>475</td>\n",
       "      <td>8333.0</td>\n",
       "    </tr>\n",
       "  </tbody>\n",
       "</table>\n",
       "</div>"
      ],
      "text/plain": [
       "             Style    Price  Rating    Size  Season NeckLine SleeveLength  \\\n",
       "Dress_ID                                                                    \n",
       "966005983    Brief  Average     4.6   Large  Spring   o-neck         full   \n",
       "876339541     cute      Low     4.5  Medium  Summer   o-neck       Others   \n",
       "1113094204  Others  Average     0.0    Free  Spring   v-neck        short   \n",
       "1117293701  Others  Average     5.0    Free  Summer   o-neck         full   \n",
       "942808364     cute      Low     4.3    Free  Autumn   o-neck    sleevless   \n",
       "\n",
       "           waiseline       Material  FabricType  Decoration Pattern Type  \\\n",
       "Dress_ID                                                                   \n",
       "966005983    natural           silk     chiffon  embroidary        print   \n",
       "876339541    natural  chiffonfabric     chiffon         bow          dot   \n",
       "1113094204    empire         cotton  broadcloth     beading        solid   \n",
       "1117293701   natural       polyster  broadcloth        lace        solid   \n",
       "942808364    natural       polyster     chiffon      sashes       Others   \n",
       "\n",
       "            Recommendation  Summer   Autumn  Winter  Spring    total  \n",
       "Dress_ID                                                              \n",
       "966005983                1    7213  14411.0  5012.0    1455  28091.0  \n",
       "876339541                0    7706  14676.0  5678.0    1396  29456.0  \n",
       "1113094204               1      68    181.0    60.0      12    321.0  \n",
       "1117293701               0     275    624.0   245.0      49   1193.0  \n",
       "942808364                0    2288   4073.0  1497.0     475   8333.0  "
      ]
     },
     "execution_count": 135,
     "metadata": {},
     "output_type": "execute_result"
    }
   ],
   "source": [
    "ds1.head()"
   ]
  },
  {
   "cell_type": "code",
   "execution_count": 136,
   "id": "e0c4f75e-8927-4b47-909c-a3ec0f288250",
   "metadata": {},
   "outputs": [
    {
     "data": {
      "text/plain": [
       "51823.0"
      ]
     },
     "execution_count": 136,
     "metadata": {},
     "output_type": "execute_result"
    }
   ],
   "source": [
    "x = ds1['Autumn'].max() - ds1['Autumn'].quantile(0.75)\n",
    "x"
   ]
  },
  {
   "cell_type": "code",
   "execution_count": 137,
   "id": "6482cb92-b684-4d0e-bb73-7b451f6d1794",
   "metadata": {},
   "outputs": [
    {
     "data": {
      "text/plain": [
       "count      107.000000\n",
       "mean      3606.514019\n",
       "std       6612.501390\n",
       "min          1.000000\n",
       "25%        531.000000\n",
       "50%       1631.000000\n",
       "75%       3709.000000\n",
       "max      55532.000000\n",
       "Name: Autumn, dtype: float64"
      ]
     },
     "execution_count": 137,
     "metadata": {},
     "output_type": "execute_result"
    }
   ],
   "source": [
    "# Describe the numerical variale: \"Autumn\".\n",
    "ds1['Autumn'].describe()"
   ]
  },
  {
   "cell_type": "code",
   "execution_count": 138,
   "id": "631913d6-3cc4-4a49-945b-01615e3716eb",
   "metadata": {},
   "outputs": [
    {
     "data": {
      "image/png": "[encoded data removed]",
      "text/plain": [
       "<Figure size 432x288 with 1 Axes>"
      ]
     },
     "metadata": {
      "needs_background": "light"
     },
     "output_type": "display_data"
    }
   ],
   "source": [
    "# plot the boxplot of \"Autumn\" column.\n",
    "plt.boxplot(ds1['Summer'])\n",
    "plt.show()"
   ]
  },
  {
   "cell_type": "code",
   "execution_count": 140,
   "id": "c8bdb3eb-ed66-4159-9245-e25b96981e8b",
   "metadata": {},
   "outputs": [
    {
     "name": "stdout",
     "output_type": "stream",
     "text": [
      "20388.0\n",
      "8544.889999999985\n"
     ]
    },
    {
     "data": {
      "text/plain": [
       "11843.110000000015"
      ]
     },
     "execution_count": 140,
     "metadata": {},
     "output_type": "execute_result"
    }
   ],
   "source": [
    "# Find the maximum and 99th percentile of Winter season.\n",
    "print(ds1['Winter'].max()) \n",
    "print(ds1['Winter'].quantile(0.99))\n",
    "\n",
    "x = ds1['Winter'].max() - ds1['Winter'].quantile(0.99)\n",
    "x"
   ]
  },
  {
   "cell_type": "code",
   "execution_count": 141,
   "id": "116d24d6-5e4d-4dae-8747-a9344baec097",
   "metadata": {},
   "outputs": [
    {
     "name": "stdout",
     "output_type": "stream",
     "text": [
      "35577\n",
      "13946.769999999979\n"
     ]
    },
    {
     "data": {
      "text/plain": [
       "21630.23000000002"
      ]
     },
     "execution_count": 141,
     "metadata": {},
     "output_type": "execute_result"
    }
   ],
   "source": [
    "# Find the maximum and 99th percentile of Summer season.\n",
    "print(ds1['Summer'].max()) \n",
    "print(ds1['Summer'].quantile(0.99))\n",
    "x = ds1['Summer'].max() - ds1['Summer'].quantile(0.99)\n",
    "x"
   ]
  },
  {
   "cell_type": "code",
   "execution_count": 142,
   "id": "fd1f7ee6-65a3-4de3-a5ba-114d4b06861f",
   "metadata": {},
   "outputs": [
    {
     "name": "stdout",
     "output_type": "stream",
     "text": [
      "7374\n",
      "2811.3099999999968\n"
     ]
    },
    {
     "data": {
      "text/plain": [
       "4562.690000000003"
      ]
     },
     "execution_count": 142,
     "metadata": {},
     "output_type": "execute_result"
    }
   ],
   "source": [
    "# Find the maximum and 99th percentile of Spring season.\n",
    "print(ds1['Spring'].max()) \n",
    "print(ds1['Spring'].quantile(0.99))\n",
    "x = ds1['Spring'].max() - ds1['Spring'].quantile(0.99)\n",
    "x"
   ]
  },
  {
   "cell_type": "code",
   "execution_count": 143,
   "id": "e496a9aa-acb4-436f-90ba-faba705292ce",
   "metadata": {},
   "outputs": [
    {
     "name": "stdout",
     "output_type": "stream",
     "text": [
      "55532.0\n",
      "23159.419999999987\n"
     ]
    },
    {
     "data": {
      "text/plain": [
       "32372.580000000013"
      ]
     },
     "execution_count": 143,
     "metadata": {},
     "output_type": "execute_result"
    }
   ],
   "source": [
    "# Find the maximum and 99th percentile of Autumn season.\n",
    "print(ds1['Autumn'].max()) \n",
    "print(ds1['Autumn'].quantile(0.99))\n",
    "\n",
    "x = ds1['Autumn'].max() - ds1['Autumn'].quantile(0.99)\n",
    "x"
   ]
  },
  {
   "cell_type": "code",
   "execution_count": 144,
   "id": "dbe030bb-17a8-4063-8ed9-b48eef173f07",
   "metadata": {},
   "outputs": [
    {
     "data": {
      "text/plain": [
       "Price\n",
       "Average    3.170588\n",
       "High       0.000000\n",
       "Low        4.052632\n",
       "Medium     3.328571\n",
       "high       4.300000\n",
       "low        4.090000\n",
       "Name: Rating, dtype: float64"
      ]
     },
     "execution_count": 144,
     "metadata": {},
     "output_type": "execute_result"
    }
   ],
   "source": [
    "# Find the Mean of Ratings for each Price category.\n",
    "ds1['Rating'].groupby(ds1['Price']).mean()"
   ]
  },
  {
   "cell_type": "code",
   "execution_count": 145,
   "id": "2bf15cfd-9c99-403d-8b8a-a712ca5bfe69",
   "metadata": {},
   "outputs": [
    {
     "data": {
      "text/plain": [
       "Style\n",
       "Brief     4.5\n",
       "Casual    4.6\n",
       "Others    4.6\n",
       "Sexy      4.4\n",
       "cute      4.6\n",
       "Name: Rating, dtype: float64"
      ]
     },
     "execution_count": 145,
     "metadata": {},
     "output_type": "execute_result"
    }
   ],
   "source": [
    "# Find the median of Ratings for each Style category.\n",
    "ds1['Rating'].groupby(ds1['Style']).median()"
   ]
  },
  {
   "cell_type": "code",
   "execution_count": 146,
   "id": "af7c507e-f9a2-44bc-9128-b4f23bf7bb52",
   "metadata": {},
   "outputs": [
    {
     "data": {
      "text/plain": [
       "Season\n",
       "Autumn    0.117647\n",
       "Spring    0.666667\n",
       "Summer    0.275862\n",
       "Winter    0.379310\n",
       "Name: Recommendation, dtype: float64"
      ]
     },
     "execution_count": 146,
     "metadata": {},
     "output_type": "execute_result"
    }
   ],
   "source": [
    "ds1['Recommendation'].groupby(ds1['Season']).mean()"
   ]
  },
  {
   "cell_type": "code",
   "execution_count": 147,
   "id": "63b9551c-74d3-400a-ba83-faf53450aeb7",
   "metadata": {},
   "outputs": [
    {
     "data": {
      "text/plain": [
       "Size\n",
       "Extra Large     2\n",
       "Free           18\n",
       "Large           9\n",
       "Medium         14\n",
       "Small           0\n",
       "Name: Recommendation, dtype: int64"
      ]
     },
     "execution_count": 147,
     "metadata": {},
     "output_type": "execute_result"
    }
   ],
   "source": [
    "# Size vs Recommendation.\n",
    "ds1.groupby('Size')['Recommendation'].sum()"
   ]
  },
  {
   "cell_type": "code",
   "execution_count": 148,
   "id": "89b8a552-022f-4a1e-976f-f40ca0e563ab",
   "metadata": {},
   "outputs": [
    {
     "data": {
      "text/html": [
       "<div>\n",
       "<style scoped>\n",
       "    .dataframe tbody tr th:only-of-type {\n",
       "        vertical-align: middle;\n",
       "    }\n",
       "\n",
       "    .dataframe tbody tr th {\n",
       "        vertical-align: top;\n",
       "    }\n",
       "\n",
       "    .dataframe thead th {\n",
       "        text-align: right;\n",
       "    }\n",
       "</style>\n",
       "<table border=\"1\" class=\"dataframe\">\n",
       "  <thead>\n",
       "    <tr style=\"text-align: right;\">\n",
       "      <th>Price</th>\n",
       "      <th>Average</th>\n",
       "      <th>High</th>\n",
       "      <th>Low</th>\n",
       "      <th>Medium</th>\n",
       "      <th>high</th>\n",
       "      <th>low</th>\n",
       "    </tr>\n",
       "    <tr>\n",
       "      <th>Style</th>\n",
       "      <th></th>\n",
       "      <th></th>\n",
       "      <th></th>\n",
       "      <th></th>\n",
       "      <th></th>\n",
       "      <th></th>\n",
       "    </tr>\n",
       "  </thead>\n",
       "  <tbody>\n",
       "    <tr>\n",
       "      <th>Brief</th>\n",
       "      <td>1.000000</td>\n",
       "      <td>NaN</td>\n",
       "      <td>0.000000</td>\n",
       "      <td>NaN</td>\n",
       "      <td>NaN</td>\n",
       "      <td>NaN</td>\n",
       "    </tr>\n",
       "    <tr>\n",
       "      <th>Casual</th>\n",
       "      <td>0.375000</td>\n",
       "      <td>NaN</td>\n",
       "      <td>0.210526</td>\n",
       "      <td>0.5</td>\n",
       "      <td>NaN</td>\n",
       "      <td>0.000000</td>\n",
       "    </tr>\n",
       "    <tr>\n",
       "      <th>Others</th>\n",
       "      <td>0.230769</td>\n",
       "      <td>NaN</td>\n",
       "      <td>0.750000</td>\n",
       "      <td>1.0</td>\n",
       "      <td>NaN</td>\n",
       "      <td>0.500000</td>\n",
       "    </tr>\n",
       "    <tr>\n",
       "      <th>Sexy</th>\n",
       "      <td>0.500000</td>\n",
       "      <td>NaN</td>\n",
       "      <td>0.250000</td>\n",
       "      <td>0.0</td>\n",
       "      <td>NaN</td>\n",
       "      <td>0.500000</td>\n",
       "    </tr>\n",
       "    <tr>\n",
       "      <th>cute</th>\n",
       "      <td>0.571429</td>\n",
       "      <td>0.0</td>\n",
       "      <td>0.500000</td>\n",
       "      <td>1.0</td>\n",
       "      <td>1.0</td>\n",
       "      <td>0.333333</td>\n",
       "    </tr>\n",
       "  </tbody>\n",
       "</table>\n",
       "</div>"
      ],
      "text/plain": [
       "Price    Average  High       Low  Medium  high       low\n",
       "Style                                                   \n",
       "Brief   1.000000   NaN  0.000000     NaN   NaN       NaN\n",
       "Casual  0.375000   NaN  0.210526     0.5   NaN  0.000000\n",
       "Others  0.230769   NaN  0.750000     1.0   NaN  0.500000\n",
       "Sexy    0.500000   NaN  0.250000     0.0   NaN  0.500000\n",
       "cute    0.571429   0.0  0.500000     1.0   1.0  0.333333"
      ]
     },
     "execution_count": 148,
     "metadata": {},
     "output_type": "execute_result"
    }
   ],
   "source": [
    "# plot the heat map of Style, price and Recommendation.\n",
    "res = pd.pivot_table(data=ds1, index='Style', columns='Price', values='Recommendation')\n",
    "res"
   ]
  },
  {
   "cell_type": "code",
   "execution_count": 149,
   "id": "9e1456c8-388f-43fd-957d-2101c6baf46f",
   "metadata": {},
   "outputs": [
    {
     "data": {
      "text/plain": [
       "<AxesSubplot:xlabel='Price', ylabel='Style'>"
      ]
     },
     "execution_count": 149,
     "metadata": {},
     "output_type": "execute_result"
    },
    {
     "data": {
      "image/png": "[encoded data removed]",
      "text/plain": [
       "<Figure size 432x288 with 2 Axes>"
      ]
     },
     "metadata": {
      "needs_background": "light"
     },
     "output_type": "display_data"
    }
   ],
   "source": [
    "sns.heatmap(res, cmap='RdYlGn', annot=True)"
   ]
  },
  {
   "cell_type": "code",
   "execution_count": 150,
   "id": "3f7374da-ef63-42db-92c7-5040bfe45265",
   "metadata": {},
   "outputs": [
    {
     "data": {
      "text/plain": [
       "<AxesSubplot:xlabel='Season', ylabel='Material'>"
      ]
     },
     "execution_count": 150,
     "metadata": {},
     "output_type": "execute_result"
    },
    {
     "data": {
      "image/png": "[encoded data removed]",
      "text/plain": [
       "<Figure size 720x720 with 2 Axes>"
      ]
     },
     "metadata": {
      "needs_background": "light"
     },
     "output_type": "display_data"
    }
   ],
   "source": [
    "# plot the heat map of Season, material and Recommendation.\n",
    "res = pd.pivot_table(data=ds1, index='Material', columns='Season', values='Recommendation')\n",
    "plt.figure(figsize=[10,10])\n",
    "sns.heatmap(res[['Summer','Winter']], cmap='RdYlGn', annot=True)"
   ]
  },
  {
   "cell_type": "code",
   "execution_count": null,
   "id": "281c49e4-cb9b-44d4-8a80-33e1a48b798c",
   "metadata": {},
   "outputs": [],
   "source": []
  }
 ],
 "metadata": {
  "kernelspec": {
   "display_name": "Python 3 (ipykernel)",
   "language": "python",
   "name": "python3"
  },
  "language_info": {
   "codemirror_mode": {
    "name": "ipython",
    "version": 3
   },
   "file_extension": ".py",
   "mimetype": "text/x-python",
   "name": "python",
   "nbconvert_exporter": "python",
   "pygments_lexer": "ipython3",
   "version": "3.10.4"
  }
 },
 "nbformat": 4,
 "nbformat_minor": 5
}
